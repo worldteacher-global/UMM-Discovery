{
 "cells": [
  {
   "cell_type": "code",
   "execution_count": 1,
   "metadata": {},
   "outputs": [],
   "source": [
    "import xmltodict\n",
    "from bs4 import BeautifulSoup\n",
    "import pprint\n",
    "import os\n",
    "import re\n",
    "import pandas as pd\n",
    "\n",
    "import skimage\n",
    "import matplotlib.pyplot as plt"
   ]
  },
  {
   "cell_type": "code",
   "execution_count": 2,
   "metadata": {},
   "outputs": [],
   "source": [
    "image_folder = os.path.join(os.getcwd(),'IMAGE_DATA')"
   ]
  },
  {
   "cell_type": "code",
   "execution_count": 3,
   "metadata": {},
   "outputs": [],
   "source": [
    "image_root = os.path.join(image_folder,os.listdir(image_folder)[0])"
   ]
  },
  {
   "cell_type": "code",
   "execution_count": 4,
   "metadata": {},
   "outputs": [],
   "source": [
    "image_root_lst = os.listdir(image_root)"
   ]
  },
  {
   "cell_type": "code",
   "execution_count": 5,
   "metadata": {},
   "outputs": [],
   "source": [
    "\n",
    "r = re.compile('(Index)')\n",
    "# re.findall(r,image_root_lst)\n",
    "idx_file = list(filter(r.findall,image_root_lst))[0]\n"
   ]
  },
  {
   "cell_type": "code",
   "execution_count": 6,
   "metadata": {},
   "outputs": [],
   "source": [
    "with open(os.path.join(image_root,idx_file),'r') as f:\n",
    "    index_xml = f.read()"
   ]
  },
  {
   "cell_type": "code",
   "execution_count": 7,
   "metadata": {},
   "outputs": [],
   "source": [
    "idx_xml = BeautifulSoup(index_xml,'xml')"
   ]
  },
  {
   "cell_type": "code",
   "execution_count": 8,
   "metadata": {},
   "outputs": [],
   "source": [
    "# ind_file.find('<Col>'==22)\n",
    "# ind_file.find_all('Wells', {'Col': [22]})"
   ]
  },
  {
   "cell_type": "code",
   "execution_count": 9,
   "metadata": {},
   "outputs": [],
   "source": [
    "idx_dict = xmltodict.parse(index_xml)"
   ]
  },
  {
   "cell_type": "code",
   "execution_count": 10,
   "metadata": {},
   "outputs": [],
   "source": [
    "# pprint.pprint(idx_dict['EvaluationInputData'])"
   ]
  },
  {
   "cell_type": "code",
   "execution_count": 11,
   "metadata": {},
   "outputs": [
    {
     "data": {
      "text/plain": [
       "dict_keys(['@Version', '@xmlns', '@xmlns:xsd', '@xmlns:xsi', 'User', 'InstrumentType', 'Plates', 'Wells', 'Maps', 'Images'])"
      ]
     },
     "execution_count": 11,
     "metadata": {},
     "output_type": "execute_result"
    }
   ],
   "source": [
    "idx_dict['EvaluationInputData'].keys()"
   ]
  },
  {
   "cell_type": "code",
   "execution_count": 12,
   "metadata": {},
   "outputs": [],
   "source": [
    "mod_well_lst_to_df = []\n",
    "\n",
    "for cnt in range(len(idx_dict['EvaluationInputData']['Wells']['Well'])):\n",
    "    well_temp_df = pd.DataFrame.from_dict(idx_dict['EvaluationInputData']['Wells']['Well'][cnt],orient='columns')\n",
    "    well_temp_df['Image'] = [item.pop('@id') for item in well_temp_df['Image']]\n",
    "    mod_well_lst_to_df.append(well_temp_df)\n",
    "    well_table=pd.concat(mod_well_lst_to_df,axis=0)"
   ]
  },
  {
   "cell_type": "code",
   "execution_count": 13,
   "metadata": {},
   "outputs": [],
   "source": [
    "well_table.reset_index(drop=True,inplace=True)"
   ]
  },
  {
   "cell_type": "code",
   "execution_count": 14,
   "metadata": {},
   "outputs": [
    {
     "data": {
      "text/html": [
       "<div>\n",
       "<style scoped>\n",
       "    .dataframe tbody tr th:only-of-type {\n",
       "        vertical-align: middle;\n",
       "    }\n",
       "\n",
       "    .dataframe tbody tr th {\n",
       "        vertical-align: top;\n",
       "    }\n",
       "\n",
       "    .dataframe thead th {\n",
       "        text-align: right;\n",
       "    }\n",
       "</style>\n",
       "<table border=\"1\" class=\"dataframe\">\n",
       "  <thead>\n",
       "    <tr style=\"text-align: right;\">\n",
       "      <th></th>\n",
       "      <th>id</th>\n",
       "      <th>Col</th>\n",
       "      <th>Row</th>\n",
       "      <th>SublayoutID</th>\n",
       "      <th>Image</th>\n",
       "    </tr>\n",
       "  </thead>\n",
       "  <tbody>\n",
       "    <tr>\n",
       "      <th>0</th>\n",
       "      <td>0101</td>\n",
       "      <td>1</td>\n",
       "      <td>1</td>\n",
       "      <td>1</td>\n",
       "      <td>0101K1F1P1R1</td>\n",
       "    </tr>\n",
       "    <tr>\n",
       "      <th>1</th>\n",
       "      <td>0101</td>\n",
       "      <td>1</td>\n",
       "      <td>1</td>\n",
       "      <td>1</td>\n",
       "      <td>0101K1F1P1R2</td>\n",
       "    </tr>\n",
       "    <tr>\n",
       "      <th>2</th>\n",
       "      <td>0101</td>\n",
       "      <td>1</td>\n",
       "      <td>1</td>\n",
       "      <td>1</td>\n",
       "      <td>0101K1F2P1R1</td>\n",
       "    </tr>\n",
       "    <tr>\n",
       "      <th>3</th>\n",
       "      <td>0101</td>\n",
       "      <td>1</td>\n",
       "      <td>1</td>\n",
       "      <td>1</td>\n",
       "      <td>0101K1F2P1R2</td>\n",
       "    </tr>\n",
       "    <tr>\n",
       "      <th>4</th>\n",
       "      <td>0101</td>\n",
       "      <td>1</td>\n",
       "      <td>1</td>\n",
       "      <td>1</td>\n",
       "      <td>0101K1F3P1R1</td>\n",
       "    </tr>\n",
       "  </tbody>\n",
       "</table>\n",
       "</div>"
      ],
      "text/plain": [
       "     id Col Row SublayoutID         Image\n",
       "0  0101   1   1           1  0101K1F1P1R1\n",
       "1  0101   1   1           1  0101K1F1P1R2\n",
       "2  0101   1   1           1  0101K1F2P1R1\n",
       "3  0101   1   1           1  0101K1F2P1R2\n",
       "4  0101   1   1           1  0101K1F3P1R1"
      ]
     },
     "execution_count": 14,
     "metadata": {},
     "output_type": "execute_result"
    }
   ],
   "source": [
    "well_table.head()"
   ]
  },
  {
   "cell_type": "code",
   "execution_count": 15,
   "metadata": {},
   "outputs": [
    {
     "data": {
      "text/html": [
       "<div>\n",
       "<style scoped>\n",
       "    .dataframe tbody tr th:only-of-type {\n",
       "        vertical-align: middle;\n",
       "    }\n",
       "\n",
       "    .dataframe tbody tr th {\n",
       "        vertical-align: top;\n",
       "    }\n",
       "\n",
       "    .dataframe thead th {\n",
       "        text-align: right;\n",
       "    }\n",
       "</style>\n",
       "<table border=\"1\" class=\"dataframe\">\n",
       "  <thead>\n",
       "    <tr style=\"text-align: right;\">\n",
       "      <th></th>\n",
       "      <th>id</th>\n",
       "      <th>State</th>\n",
       "      <th>Row</th>\n",
       "      <th>Col</th>\n",
       "      <th>ChannelID</th>\n",
       "      <th>FieldID</th>\n",
       "      <th>PlaneID</th>\n",
       "      <th>TimepointID</th>\n",
       "      <th>SequenceID</th>\n",
       "      <th>GroupID</th>\n",
       "      <th>AbsTime</th>\n",
       "      <th>AbsPositionZ</th>\n",
       "      <th>MeasurementTimeOffset</th>\n",
       "      <th>URL</th>\n",
       "    </tr>\n",
       "  </thead>\n",
       "  <tbody>\n",
       "    <tr>\n",
       "      <th>0</th>\n",
       "      <td>0101K1F1P1R1</td>\n",
       "      <td>None</td>\n",
       "      <td>1</td>\n",
       "      <td>1</td>\n",
       "      <td>1</td>\n",
       "      <td>1</td>\n",
       "      <td>1</td>\n",
       "      <td>1</td>\n",
       "      <td>1</td>\n",
       "      <td>1</td>\n",
       "      <td>2022-11-15T22:28:38.0496000Z</td>\n",
       "      <td>{'@Unit': 'm', '#text': '0.1349009528967997'}</td>\n",
       "      <td>0</td>\n",
       "      <td>r01c01-1719728043.tiff</td>\n",
       "    </tr>\n",
       "    <tr>\n",
       "      <th>1</th>\n",
       "      <td>0101K1F1P1R2</td>\n",
       "      <td>None</td>\n",
       "      <td>1</td>\n",
       "      <td>1</td>\n",
       "      <td>2</td>\n",
       "      <td>1</td>\n",
       "      <td>1</td>\n",
       "      <td>1</td>\n",
       "      <td>1</td>\n",
       "      <td>1</td>\n",
       "      <td>2022-11-15T22:28:38.6892000Z</td>\n",
       "      <td>{'@Unit': 'm', '#text': '0.1349009528967997'}</td>\n",
       "      <td>0.639600038528</td>\n",
       "      <td>r01c01-1299190045.tiff</td>\n",
       "    </tr>\n",
       "    <tr>\n",
       "      <th>2</th>\n",
       "      <td>0101K1F2P1R1</td>\n",
       "      <td>None</td>\n",
       "      <td>1</td>\n",
       "      <td>1</td>\n",
       "      <td>1</td>\n",
       "      <td>2</td>\n",
       "      <td>1</td>\n",
       "      <td>1</td>\n",
       "      <td>1</td>\n",
       "      <td>1</td>\n",
       "      <td>2022-11-15T22:28:39.4380000Z</td>\n",
       "      <td>{'@Unit': 'm', '#text': '0.1349040863366522'}</td>\n",
       "      <td>1.38840007782</td>\n",
       "      <td>r01c01-0436032609.tiff</td>\n",
       "    </tr>\n",
       "    <tr>\n",
       "      <th>3</th>\n",
       "      <td>0101K1F2P1R2</td>\n",
       "      <td>None</td>\n",
       "      <td>1</td>\n",
       "      <td>1</td>\n",
       "      <td>2</td>\n",
       "      <td>2</td>\n",
       "      <td>1</td>\n",
       "      <td>1</td>\n",
       "      <td>1</td>\n",
       "      <td>1</td>\n",
       "      <td>2022-11-15T22:28:39.9684000Z</td>\n",
       "      <td>{'@Unit': 'm', '#text': '0.1349040863366522'}</td>\n",
       "      <td>1.91880011559</td>\n",
       "      <td>r01c01-0695440784.tiff</td>\n",
       "    </tr>\n",
       "    <tr>\n",
       "      <th>4</th>\n",
       "      <td>0101K1F3P1R1</td>\n",
       "      <td>None</td>\n",
       "      <td>1</td>\n",
       "      <td>1</td>\n",
       "      <td>1</td>\n",
       "      <td>3</td>\n",
       "      <td>1</td>\n",
       "      <td>1</td>\n",
       "      <td>1</td>\n",
       "      <td>1</td>\n",
       "      <td>2022-11-15T22:28:40.8576000Z</td>\n",
       "      <td>{'@Unit': 'm', '#text': '0.1349020074760486'}</td>\n",
       "      <td>2.80800008774</td>\n",
       "      <td>r01c01-1938356943.tiff</td>\n",
       "    </tr>\n",
       "  </tbody>\n",
       "</table>\n",
       "</div>"
      ],
      "text/plain": [
       "             id State Row Col ChannelID FieldID PlaneID TimepointID  \\\n",
       "0  0101K1F1P1R1  None   1   1         1       1       1           1   \n",
       "1  0101K1F1P1R2  None   1   1         2       1       1           1   \n",
       "2  0101K1F2P1R1  None   1   1         1       2       1           1   \n",
       "3  0101K1F2P1R2  None   1   1         2       2       1           1   \n",
       "4  0101K1F3P1R1  None   1   1         1       3       1           1   \n",
       "\n",
       "  SequenceID GroupID                       AbsTime  \\\n",
       "0          1       1  2022-11-15T22:28:38.0496000Z   \n",
       "1          1       1  2022-11-15T22:28:38.6892000Z   \n",
       "2          1       1  2022-11-15T22:28:39.4380000Z   \n",
       "3          1       1  2022-11-15T22:28:39.9684000Z   \n",
       "4          1       1  2022-11-15T22:28:40.8576000Z   \n",
       "\n",
       "                                    AbsPositionZ MeasurementTimeOffset  \\\n",
       "0  {'@Unit': 'm', '#text': '0.1349009528967997'}                     0   \n",
       "1  {'@Unit': 'm', '#text': '0.1349009528967997'}        0.639600038528   \n",
       "2  {'@Unit': 'm', '#text': '0.1349040863366522'}         1.38840007782   \n",
       "3  {'@Unit': 'm', '#text': '0.1349040863366522'}         1.91880011559   \n",
       "4  {'@Unit': 'm', '#text': '0.1349020074760486'}         2.80800008774   \n",
       "\n",
       "                      URL  \n",
       "0  r01c01-1719728043.tiff  \n",
       "1  r01c01-1299190045.tiff  \n",
       "2  r01c01-0436032609.tiff  \n",
       "3  r01c01-0695440784.tiff  \n",
       "4  r01c01-1938356943.tiff  "
      ]
     },
     "execution_count": 15,
     "metadata": {},
     "output_type": "execute_result"
    }
   ],
   "source": [
    "#channelID 1 = HOECHST\n",
    "#channelID 2 = mCherry\n",
    "image_table = pd.DataFrame.from_dict(idx_dict['EvaluationInputData']['Images']['Image'],orient='columns')\n",
    "image_table.head()"
   ]
  },
  {
   "cell_type": "code",
   "execution_count": 16,
   "metadata": {},
   "outputs": [
    {
     "data": {
      "text/html": [
       "<div>\n",
       "<style scoped>\n",
       "    .dataframe tbody tr th:only-of-type {\n",
       "        vertical-align: middle;\n",
       "    }\n",
       "\n",
       "    .dataframe tbody tr th {\n",
       "        vertical-align: top;\n",
       "    }\n",
       "\n",
       "    .dataframe thead th {\n",
       "        text-align: right;\n",
       "    }\n",
       "</style>\n",
       "<table border=\"1\" class=\"dataframe\">\n",
       "  <thead>\n",
       "    <tr style=\"text-align: right;\">\n",
       "      <th></th>\n",
       "      <th>id</th>\n",
       "      <th>State</th>\n",
       "      <th>Row</th>\n",
       "      <th>Col</th>\n",
       "      <th>ChannelID</th>\n",
       "      <th>FieldID</th>\n",
       "      <th>PlaneID</th>\n",
       "      <th>TimepointID</th>\n",
       "      <th>SequenceID</th>\n",
       "      <th>GroupID</th>\n",
       "      <th>AbsTime</th>\n",
       "      <th>AbsPositionZ</th>\n",
       "      <th>MeasurementTimeOffset</th>\n",
       "      <th>URL</th>\n",
       "    </tr>\n",
       "  </thead>\n",
       "  <tbody>\n",
       "    <tr>\n",
       "      <th>126</th>\n",
       "      <td>0122K1F1P1R1</td>\n",
       "      <td>None</td>\n",
       "      <td>1</td>\n",
       "      <td>22</td>\n",
       "      <td>1</td>\n",
       "      <td>1</td>\n",
       "      <td>1</td>\n",
       "      <td>1</td>\n",
       "      <td>1</td>\n",
       "      <td>1</td>\n",
       "      <td>2022-11-15T22:53:40.6260096Z</td>\n",
       "      <td>{'@Unit': 'm', '#text': '0.13498944511922153'}</td>\n",
       "      <td>1502.5764091</td>\n",
       "      <td>r01c22-0584869840.tiff</td>\n",
       "    </tr>\n",
       "    <tr>\n",
       "      <th>127</th>\n",
       "      <td>0122K1F1P1R2</td>\n",
       "      <td>None</td>\n",
       "      <td>1</td>\n",
       "      <td>22</td>\n",
       "      <td>2</td>\n",
       "      <td>1</td>\n",
       "      <td>1</td>\n",
       "      <td>1</td>\n",
       "      <td>1</td>\n",
       "      <td>1</td>\n",
       "      <td>2022-11-15T22:53:41.1564096Z</td>\n",
       "      <td>{'@Unit': 'm', '#text': '0.13498944511922153'}</td>\n",
       "      <td>1503.10680914</td>\n",
       "      <td>r01c22-2111396476.tiff</td>\n",
       "    </tr>\n",
       "    <tr>\n",
       "      <th>128</th>\n",
       "      <td>0122K1F2P1R1</td>\n",
       "      <td>None</td>\n",
       "      <td>1</td>\n",
       "      <td>22</td>\n",
       "      <td>1</td>\n",
       "      <td>2</td>\n",
       "      <td>1</td>\n",
       "      <td>1</td>\n",
       "      <td>1</td>\n",
       "      <td>1</td>\n",
       "      <td>2022-11-15T22:53:42.4044096Z</td>\n",
       "      <td>{'@Unit': 'm', '#text': '0.134989877075187'}</td>\n",
       "      <td>1504.35480905</td>\n",
       "      <td>r01c22-0165009493.tiff</td>\n",
       "    </tr>\n",
       "    <tr>\n",
       "      <th>129</th>\n",
       "      <td>0122K1F2P1R2</td>\n",
       "      <td>None</td>\n",
       "      <td>1</td>\n",
       "      <td>22</td>\n",
       "      <td>2</td>\n",
       "      <td>2</td>\n",
       "      <td>1</td>\n",
       "      <td>1</td>\n",
       "      <td>1</td>\n",
       "      <td>1</td>\n",
       "      <td>2022-11-15T22:53:42.9348096Z</td>\n",
       "      <td>{'@Unit': 'm', '#text': '0.134989877075187'}</td>\n",
       "      <td>1504.88520908</td>\n",
       "      <td>r01c22-2023344791.tiff</td>\n",
       "    </tr>\n",
       "    <tr>\n",
       "      <th>130</th>\n",
       "      <td>0122K1F3P1R1</td>\n",
       "      <td>None</td>\n",
       "      <td>1</td>\n",
       "      <td>22</td>\n",
       "      <td>1</td>\n",
       "      <td>3</td>\n",
       "      <td>1</td>\n",
       "      <td>1</td>\n",
       "      <td>1</td>\n",
       "      <td>1</td>\n",
       "      <td>2022-11-15T22:53:43.9020096Z</td>\n",
       "      <td>{'@Unit': 'm', '#text': '0.13498634681459504'}</td>\n",
       "      <td>1505.85240912</td>\n",
       "      <td>r01c22-1365878811.tiff</td>\n",
       "    </tr>\n",
       "  </tbody>\n",
       "</table>\n",
       "</div>"
      ],
      "text/plain": [
       "               id State Row Col ChannelID FieldID PlaneID TimepointID  \\\n",
       "126  0122K1F1P1R1  None   1  22         1       1       1           1   \n",
       "127  0122K1F1P1R2  None   1  22         2       1       1           1   \n",
       "128  0122K1F2P1R1  None   1  22         1       2       1           1   \n",
       "129  0122K1F2P1R2  None   1  22         2       2       1           1   \n",
       "130  0122K1F3P1R1  None   1  22         1       3       1           1   \n",
       "\n",
       "    SequenceID GroupID                       AbsTime  \\\n",
       "126          1       1  2022-11-15T22:53:40.6260096Z   \n",
       "127          1       1  2022-11-15T22:53:41.1564096Z   \n",
       "128          1       1  2022-11-15T22:53:42.4044096Z   \n",
       "129          1       1  2022-11-15T22:53:42.9348096Z   \n",
       "130          1       1  2022-11-15T22:53:43.9020096Z   \n",
       "\n",
       "                                       AbsPositionZ MeasurementTimeOffset  \\\n",
       "126  {'@Unit': 'm', '#text': '0.13498944511922153'}          1502.5764091   \n",
       "127  {'@Unit': 'm', '#text': '0.13498944511922153'}         1503.10680914   \n",
       "128    {'@Unit': 'm', '#text': '0.134989877075187'}         1504.35480905   \n",
       "129    {'@Unit': 'm', '#text': '0.134989877075187'}         1504.88520908   \n",
       "130  {'@Unit': 'm', '#text': '0.13498634681459504'}         1505.85240912   \n",
       "\n",
       "                        URL  \n",
       "126  r01c22-0584869840.tiff  \n",
       "127  r01c22-2111396476.tiff  \n",
       "128  r01c22-0165009493.tiff  \n",
       "129  r01c22-2023344791.tiff  \n",
       "130  r01c22-1365878811.tiff  "
      ]
     },
     "execution_count": 16,
     "metadata": {},
     "output_type": "execute_result"
    }
   ],
   "source": [
    "p_ctl_metadata = image_table[image_table['Col']=='22']\n",
    "p_ctl_metadata.head()"
   ]
  },
  {
   "cell_type": "code",
   "execution_count": 17,
   "metadata": {},
   "outputs": [
    {
     "name": "stderr",
     "output_type": "stream",
     "text": [
      "C:\\Users\\marfok\\AppData\\Local\\Temp\\ipykernel_24548\\1373054125.py:1: SettingWithCopyWarning: \n",
      "A value is trying to be set on a copy of a slice from a DataFrame.\n",
      "Try using .loc[row_indexer,col_indexer] = value instead\n",
      "\n",
      "See the caveats in the documentation: https://pandas.pydata.org/pandas-docs/stable/user_guide/indexing.html#returning-a-view-versus-a-copy\n",
      "  p_ctl_metadata['image_root_folder'] = image_root\n"
     ]
    }
   ],
   "source": [
    "p_ctl_metadata['image_root_folder'] = image_root"
   ]
  },
  {
   "cell_type": "code",
   "execution_count": 18,
   "metadata": {},
   "outputs": [],
   "source": [
    "# get HOESCHT image"
   ]
  },
  {
   "cell_type": "code",
   "execution_count": 19,
   "metadata": {},
   "outputs": [
    {
     "data": {
      "text/plain": [
       "'r01c22-2111396476.tiff'"
      ]
     },
     "execution_count": 19,
     "metadata": {},
     "output_type": "execute_result"
    }
   ],
   "source": [
    "p_ctl_metadata[p_ctl_metadata.ChannelID.eq('2')]['URL'].iloc[0] "
   ]
  },
  {
   "cell_type": "code",
   "execution_count": 20,
   "metadata": {},
   "outputs": [
    {
     "data": {
      "text/html": [
       "<div>\n",
       "<style scoped>\n",
       "    .dataframe tbody tr th:only-of-type {\n",
       "        vertical-align: middle;\n",
       "    }\n",
       "\n",
       "    .dataframe tbody tr th {\n",
       "        vertical-align: top;\n",
       "    }\n",
       "\n",
       "    .dataframe thead th {\n",
       "        text-align: right;\n",
       "    }\n",
       "</style>\n",
       "<table border=\"1\" class=\"dataframe\">\n",
       "  <thead>\n",
       "    <tr style=\"text-align: right;\">\n",
       "      <th></th>\n",
       "      <th>id</th>\n",
       "      <th>State</th>\n",
       "      <th>Row</th>\n",
       "      <th>Col</th>\n",
       "      <th>ChannelID</th>\n",
       "      <th>FieldID</th>\n",
       "      <th>PlaneID</th>\n",
       "      <th>TimepointID</th>\n",
       "      <th>SequenceID</th>\n",
       "      <th>GroupID</th>\n",
       "      <th>AbsTime</th>\n",
       "      <th>AbsPositionZ</th>\n",
       "      <th>MeasurementTimeOffset</th>\n",
       "      <th>URL</th>\n",
       "      <th>image_root_folder</th>\n",
       "    </tr>\n",
       "  </thead>\n",
       "  <tbody>\n",
       "    <tr>\n",
       "      <th>126</th>\n",
       "      <td>0122K1F1P1R1</td>\n",
       "      <td>None</td>\n",
       "      <td>1</td>\n",
       "      <td>22</td>\n",
       "      <td>1</td>\n",
       "      <td>1</td>\n",
       "      <td>1</td>\n",
       "      <td>1</td>\n",
       "      <td>1</td>\n",
       "      <td>1</td>\n",
       "      <td>2022-11-15T22:53:40.6260096Z</td>\n",
       "      <td>{'@Unit': 'm', '#text': '0.13498944511922153'}</td>\n",
       "      <td>1502.5764091</td>\n",
       "      <td>r01c22-0584869840.tiff</td>\n",
       "      <td>c:\\Users\\marfok\\OneDrive - Bristol Myers Squib...</td>\n",
       "    </tr>\n",
       "    <tr>\n",
       "      <th>127</th>\n",
       "      <td>0122K1F1P1R2</td>\n",
       "      <td>None</td>\n",
       "      <td>1</td>\n",
       "      <td>22</td>\n",
       "      <td>2</td>\n",
       "      <td>1</td>\n",
       "      <td>1</td>\n",
       "      <td>1</td>\n",
       "      <td>1</td>\n",
       "      <td>1</td>\n",
       "      <td>2022-11-15T22:53:41.1564096Z</td>\n",
       "      <td>{'@Unit': 'm', '#text': '0.13498944511922153'}</td>\n",
       "      <td>1503.10680914</td>\n",
       "      <td>r01c22-2111396476.tiff</td>\n",
       "      <td>c:\\Users\\marfok\\OneDrive - Bristol Myers Squib...</td>\n",
       "    </tr>\n",
       "    <tr>\n",
       "      <th>128</th>\n",
       "      <td>0122K1F2P1R1</td>\n",
       "      <td>None</td>\n",
       "      <td>1</td>\n",
       "      <td>22</td>\n",
       "      <td>1</td>\n",
       "      <td>2</td>\n",
       "      <td>1</td>\n",
       "      <td>1</td>\n",
       "      <td>1</td>\n",
       "      <td>1</td>\n",
       "      <td>2022-11-15T22:53:42.4044096Z</td>\n",
       "      <td>{'@Unit': 'm', '#text': '0.134989877075187'}</td>\n",
       "      <td>1504.35480905</td>\n",
       "      <td>r01c22-0165009493.tiff</td>\n",
       "      <td>c:\\Users\\marfok\\OneDrive - Bristol Myers Squib...</td>\n",
       "    </tr>\n",
       "    <tr>\n",
       "      <th>129</th>\n",
       "      <td>0122K1F2P1R2</td>\n",
       "      <td>None</td>\n",
       "      <td>1</td>\n",
       "      <td>22</td>\n",
       "      <td>2</td>\n",
       "      <td>2</td>\n",
       "      <td>1</td>\n",
       "      <td>1</td>\n",
       "      <td>1</td>\n",
       "      <td>1</td>\n",
       "      <td>2022-11-15T22:53:42.9348096Z</td>\n",
       "      <td>{'@Unit': 'm', '#text': '0.134989877075187'}</td>\n",
       "      <td>1504.88520908</td>\n",
       "      <td>r01c22-2023344791.tiff</td>\n",
       "      <td>c:\\Users\\marfok\\OneDrive - Bristol Myers Squib...</td>\n",
       "    </tr>\n",
       "    <tr>\n",
       "      <th>130</th>\n",
       "      <td>0122K1F3P1R1</td>\n",
       "      <td>None</td>\n",
       "      <td>1</td>\n",
       "      <td>22</td>\n",
       "      <td>1</td>\n",
       "      <td>3</td>\n",
       "      <td>1</td>\n",
       "      <td>1</td>\n",
       "      <td>1</td>\n",
       "      <td>1</td>\n",
       "      <td>2022-11-15T22:53:43.9020096Z</td>\n",
       "      <td>{'@Unit': 'm', '#text': '0.13498634681459504'}</td>\n",
       "      <td>1505.85240912</td>\n",
       "      <td>r01c22-1365878811.tiff</td>\n",
       "      <td>c:\\Users\\marfok\\OneDrive - Bristol Myers Squib...</td>\n",
       "    </tr>\n",
       "    <tr>\n",
       "      <th>...</th>\n",
       "      <td>...</td>\n",
       "      <td>...</td>\n",
       "      <td>...</td>\n",
       "      <td>...</td>\n",
       "      <td>...</td>\n",
       "      <td>...</td>\n",
       "      <td>...</td>\n",
       "      <td>...</td>\n",
       "      <td>...</td>\n",
       "      <td>...</td>\n",
       "      <td>...</td>\n",
       "      <td>...</td>\n",
       "      <td>...</td>\n",
       "      <td>...</td>\n",
       "      <td>...</td>\n",
       "    </tr>\n",
       "    <tr>\n",
       "      <th>2287</th>\n",
       "      <td>1622K1F1P1R2</td>\n",
       "      <td>None</td>\n",
       "      <td>16</td>\n",
       "      <td>22</td>\n",
       "      <td>2</td>\n",
       "      <td>1</td>\n",
       "      <td>1</td>\n",
       "      <td>1</td>\n",
       "      <td>1</td>\n",
       "      <td>1</td>\n",
       "      <td>2022-11-15T22:52:34.5912092Z</td>\n",
       "      <td>{'@Unit': 'm', '#text': '0.13489568258617993'}</td>\n",
       "      <td>1436.54160905</td>\n",
       "      <td>r16c22-1657699482.tiff</td>\n",
       "      <td>c:\\Users\\marfok\\OneDrive - Bristol Myers Squib...</td>\n",
       "    </tr>\n",
       "    <tr>\n",
       "      <th>2288</th>\n",
       "      <td>1622K1F2P1R1</td>\n",
       "      <td>None</td>\n",
       "      <td>16</td>\n",
       "      <td>22</td>\n",
       "      <td>1</td>\n",
       "      <td>2</td>\n",
       "      <td>1</td>\n",
       "      <td>1</td>\n",
       "      <td>1</td>\n",
       "      <td>1</td>\n",
       "      <td>2022-11-15T22:52:35.8548092Z</td>\n",
       "      <td>{'@Unit': 'm', '#text': '0.13489894448944267'}</td>\n",
       "      <td>1437.80520916</td>\n",
       "      <td>r16c22-1734411264.tiff</td>\n",
       "      <td>c:\\Users\\marfok\\OneDrive - Bristol Myers Squib...</td>\n",
       "    </tr>\n",
       "    <tr>\n",
       "      <th>2289</th>\n",
       "      <td>1622K1F2P1R2</td>\n",
       "      <td>None</td>\n",
       "      <td>16</td>\n",
       "      <td>22</td>\n",
       "      <td>2</td>\n",
       "      <td>2</td>\n",
       "      <td>1</td>\n",
       "      <td>1</td>\n",
       "      <td>1</td>\n",
       "      <td>1</td>\n",
       "      <td>2022-11-15T22:52:36.3852092Z</td>\n",
       "      <td>{'@Unit': 'm', '#text': '0.13489894448944267'}</td>\n",
       "      <td>1438.3356092</td>\n",
       "      <td>r16c22-0524236398.tiff</td>\n",
       "      <td>c:\\Users\\marfok\\OneDrive - Bristol Myers Squib...</td>\n",
       "    </tr>\n",
       "    <tr>\n",
       "      <th>2290</th>\n",
       "      <td>1622K1F3P1R1</td>\n",
       "      <td>None</td>\n",
       "      <td>16</td>\n",
       "      <td>22</td>\n",
       "      <td>1</td>\n",
       "      <td>3</td>\n",
       "      <td>1</td>\n",
       "      <td>1</td>\n",
       "      <td>1</td>\n",
       "      <td>1</td>\n",
       "      <td>2022-11-15T22:52:37.2588092Z</td>\n",
       "      <td>{'@Unit': 'm', '#text': '0.13489325815789818'}</td>\n",
       "      <td>1439.2092092</td>\n",
       "      <td>r16c22-0431998733.tiff</td>\n",
       "      <td>c:\\Users\\marfok\\OneDrive - Bristol Myers Squib...</td>\n",
       "    </tr>\n",
       "    <tr>\n",
       "      <th>2291</th>\n",
       "      <td>1622K1F3P1R2</td>\n",
       "      <td>None</td>\n",
       "      <td>16</td>\n",
       "      <td>22</td>\n",
       "      <td>2</td>\n",
       "      <td>3</td>\n",
       "      <td>1</td>\n",
       "      <td>1</td>\n",
       "      <td>1</td>\n",
       "      <td>1</td>\n",
       "      <td>2022-11-15T22:52:37.7892092Z</td>\n",
       "      <td>{'@Unit': 'm', '#text': '0.13489325815789818'}</td>\n",
       "      <td>1439.739609</td>\n",
       "      <td>r16c22-0675203880.tiff</td>\n",
       "      <td>c:\\Users\\marfok\\OneDrive - Bristol Myers Squib...</td>\n",
       "    </tr>\n",
       "  </tbody>\n",
       "</table>\n",
       "<p>96 rows × 15 columns</p>\n",
       "</div>"
      ],
      "text/plain": [
       "                id State Row Col ChannelID FieldID PlaneID TimepointID  \\\n",
       "126   0122K1F1P1R1  None   1  22         1       1       1           1   \n",
       "127   0122K1F1P1R2  None   1  22         2       1       1           1   \n",
       "128   0122K1F2P1R1  None   1  22         1       2       1           1   \n",
       "129   0122K1F2P1R2  None   1  22         2       2       1           1   \n",
       "130   0122K1F3P1R1  None   1  22         1       3       1           1   \n",
       "...            ...   ...  ..  ..       ...     ...     ...         ...   \n",
       "2287  1622K1F1P1R2  None  16  22         2       1       1           1   \n",
       "2288  1622K1F2P1R1  None  16  22         1       2       1           1   \n",
       "2289  1622K1F2P1R2  None  16  22         2       2       1           1   \n",
       "2290  1622K1F3P1R1  None  16  22         1       3       1           1   \n",
       "2291  1622K1F3P1R2  None  16  22         2       3       1           1   \n",
       "\n",
       "     SequenceID GroupID                       AbsTime  \\\n",
       "126           1       1  2022-11-15T22:53:40.6260096Z   \n",
       "127           1       1  2022-11-15T22:53:41.1564096Z   \n",
       "128           1       1  2022-11-15T22:53:42.4044096Z   \n",
       "129           1       1  2022-11-15T22:53:42.9348096Z   \n",
       "130           1       1  2022-11-15T22:53:43.9020096Z   \n",
       "...         ...     ...                           ...   \n",
       "2287          1       1  2022-11-15T22:52:34.5912092Z   \n",
       "2288          1       1  2022-11-15T22:52:35.8548092Z   \n",
       "2289          1       1  2022-11-15T22:52:36.3852092Z   \n",
       "2290          1       1  2022-11-15T22:52:37.2588092Z   \n",
       "2291          1       1  2022-11-15T22:52:37.7892092Z   \n",
       "\n",
       "                                        AbsPositionZ MeasurementTimeOffset  \\\n",
       "126   {'@Unit': 'm', '#text': '0.13498944511922153'}          1502.5764091   \n",
       "127   {'@Unit': 'm', '#text': '0.13498944511922153'}         1503.10680914   \n",
       "128     {'@Unit': 'm', '#text': '0.134989877075187'}         1504.35480905   \n",
       "129     {'@Unit': 'm', '#text': '0.134989877075187'}         1504.88520908   \n",
       "130   {'@Unit': 'm', '#text': '0.13498634681459504'}         1505.85240912   \n",
       "...                                              ...                   ...   \n",
       "2287  {'@Unit': 'm', '#text': '0.13489568258617993'}         1436.54160905   \n",
       "2288  {'@Unit': 'm', '#text': '0.13489894448944267'}         1437.80520916   \n",
       "2289  {'@Unit': 'm', '#text': '0.13489894448944267'}          1438.3356092   \n",
       "2290  {'@Unit': 'm', '#text': '0.13489325815789818'}          1439.2092092   \n",
       "2291  {'@Unit': 'm', '#text': '0.13489325815789818'}           1439.739609   \n",
       "\n",
       "                         URL  \\\n",
       "126   r01c22-0584869840.tiff   \n",
       "127   r01c22-2111396476.tiff   \n",
       "128   r01c22-0165009493.tiff   \n",
       "129   r01c22-2023344791.tiff   \n",
       "130   r01c22-1365878811.tiff   \n",
       "...                      ...   \n",
       "2287  r16c22-1657699482.tiff   \n",
       "2288  r16c22-1734411264.tiff   \n",
       "2289  r16c22-0524236398.tiff   \n",
       "2290  r16c22-0431998733.tiff   \n",
       "2291  r16c22-0675203880.tiff   \n",
       "\n",
       "                                      image_root_folder  \n",
       "126   c:\\Users\\marfok\\OneDrive - Bristol Myers Squib...  \n",
       "127   c:\\Users\\marfok\\OneDrive - Bristol Myers Squib...  \n",
       "128   c:\\Users\\marfok\\OneDrive - Bristol Myers Squib...  \n",
       "129   c:\\Users\\marfok\\OneDrive - Bristol Myers Squib...  \n",
       "130   c:\\Users\\marfok\\OneDrive - Bristol Myers Squib...  \n",
       "...                                                 ...  \n",
       "2287  c:\\Users\\marfok\\OneDrive - Bristol Myers Squib...  \n",
       "2288  c:\\Users\\marfok\\OneDrive - Bristol Myers Squib...  \n",
       "2289  c:\\Users\\marfok\\OneDrive - Bristol Myers Squib...  \n",
       "2290  c:\\Users\\marfok\\OneDrive - Bristol Myers Squib...  \n",
       "2291  c:\\Users\\marfok\\OneDrive - Bristol Myers Squib...  \n",
       "\n",
       "[96 rows x 15 columns]"
      ]
     },
     "execution_count": 20,
     "metadata": {},
     "output_type": "execute_result"
    }
   ],
   "source": [
    "p_ctl_metadata"
   ]
  },
  {
   "cell_type": "code",
   "execution_count": null,
   "metadata": {},
   "outputs": [],
   "source": []
  },
  {
   "cell_type": "code",
   "execution_count": 21,
   "metadata": {},
   "outputs": [
    {
     "data": {
      "text/plain": [
       "Text(0.5, 1.0, 'mCherry')"
      ]
     },
     "execution_count": 21,
     "metadata": {},
     "output_type": "execute_result"
    },
    {
     "data": {
      "image/png": "[encoded data removed]",
      "text/plain": [
       "<Figure size 640x480 with 1 Axes>"
      ]
     },
     "metadata": {},
     "output_type": "display_data"
    }
   ],
   "source": [
    "im1 = os.path.join(p_ctl_metadata['image_root_folder'].iloc[0],p_ctl_metadata[p_ctl_metadata.ChannelID.eq('2')]['URL'].iloc[0] )\n",
    "plt.imshow(skimage.io.imread(im1))\n",
    "plt.title('mCherry')"
   ]
  },
  {
   "cell_type": "code",
   "execution_count": 22,
   "metadata": {},
   "outputs": [
    {
     "data": {
      "text/plain": [
       "96"
      ]
     },
     "execution_count": 22,
     "metadata": {},
     "output_type": "execute_result"
    }
   ],
   "source": [
    "len(p_ctl_metadata['image_root_folder'])"
   ]
  },
  {
   "cell_type": "code",
   "execution_count": 23,
   "metadata": {},
   "outputs": [
    {
     "data": {
      "text/plain": [
       "48"
      ]
     },
     "execution_count": 23,
     "metadata": {},
     "output_type": "execute_result"
    }
   ],
   "source": [
    "len(p_ctl_metadata[p_ctl_metadata.ChannelID.eq('2')]['URL'])"
   ]
  },
  {
   "cell_type": "code",
   "execution_count": 24,
   "metadata": {},
   "outputs": [],
   "source": [
    "trim_pctl = p_ctl_metadata[['id','Row','Col','ChannelID','FieldID','URL','image_root_folder']]\n",
    "h_df = trim_pctl[trim_pctl.ChannelID.eq('1')] \n",
    "m_df = trim_pctl[trim_pctl.ChannelID.eq('2')]"
   ]
  },
  {
   "cell_type": "code",
   "execution_count": 25,
   "metadata": {},
   "outputs": [
    {
     "data": {
      "text/html": [
       "<div>\n",
       "<style scoped>\n",
       "    .dataframe tbody tr th:only-of-type {\n",
       "        vertical-align: middle;\n",
       "    }\n",
       "\n",
       "    .dataframe tbody tr th {\n",
       "        vertical-align: top;\n",
       "    }\n",
       "\n",
       "    .dataframe thead th {\n",
       "        text-align: right;\n",
       "    }\n",
       "</style>\n",
       "<table border=\"1\" class=\"dataframe\">\n",
       "  <thead>\n",
       "    <tr style=\"text-align: right;\">\n",
       "      <th></th>\n",
       "      <th>id</th>\n",
       "      <th>Row</th>\n",
       "      <th>Col</th>\n",
       "      <th>ChannelID</th>\n",
       "      <th>FieldID</th>\n",
       "      <th>URL</th>\n",
       "      <th>image_root_folder</th>\n",
       "    </tr>\n",
       "  </thead>\n",
       "  <tbody>\n",
       "    <tr>\n",
       "      <th>126</th>\n",
       "      <td>0122K1F1P1R1</td>\n",
       "      <td>1</td>\n",
       "      <td>22</td>\n",
       "      <td>1</td>\n",
       "      <td>1</td>\n",
       "      <td>r01c22-0584869840.tiff</td>\n",
       "      <td>c:\\Users\\marfok\\OneDrive - Bristol Myers Squib...</td>\n",
       "    </tr>\n",
       "    <tr>\n",
       "      <th>128</th>\n",
       "      <td>0122K1F2P1R1</td>\n",
       "      <td>1</td>\n",
       "      <td>22</td>\n",
       "      <td>1</td>\n",
       "      <td>2</td>\n",
       "      <td>r01c22-0165009493.tiff</td>\n",
       "      <td>c:\\Users\\marfok\\OneDrive - Bristol Myers Squib...</td>\n",
       "    </tr>\n",
       "    <tr>\n",
       "      <th>130</th>\n",
       "      <td>0122K1F3P1R1</td>\n",
       "      <td>1</td>\n",
       "      <td>22</td>\n",
       "      <td>1</td>\n",
       "      <td>3</td>\n",
       "      <td>r01c22-1365878811.tiff</td>\n",
       "      <td>c:\\Users\\marfok\\OneDrive - Bristol Myers Squib...</td>\n",
       "    </tr>\n",
       "    <tr>\n",
       "      <th>270</th>\n",
       "      <td>0222K1F1P1R1</td>\n",
       "      <td>2</td>\n",
       "      <td>22</td>\n",
       "      <td>1</td>\n",
       "      <td>1</td>\n",
       "      <td>r02c22-1656980324.tiff</td>\n",
       "      <td>c:\\Users\\marfok\\OneDrive - Bristol Myers Squib...</td>\n",
       "    </tr>\n",
       "    <tr>\n",
       "      <th>272</th>\n",
       "      <td>0222K1F2P1R1</td>\n",
       "      <td>2</td>\n",
       "      <td>22</td>\n",
       "      <td>1</td>\n",
       "      <td>2</td>\n",
       "      <td>r02c22-1027735946.tiff</td>\n",
       "      <td>c:\\Users\\marfok\\OneDrive - Bristol Myers Squib...</td>\n",
       "    </tr>\n",
       "  </tbody>\n",
       "</table>\n",
       "</div>"
      ],
      "text/plain": [
       "               id Row Col ChannelID FieldID                     URL  \\\n",
       "126  0122K1F1P1R1   1  22         1       1  r01c22-0584869840.tiff   \n",
       "128  0122K1F2P1R1   1  22         1       2  r01c22-0165009493.tiff   \n",
       "130  0122K1F3P1R1   1  22         1       3  r01c22-1365878811.tiff   \n",
       "270  0222K1F1P1R1   2  22         1       1  r02c22-1656980324.tiff   \n",
       "272  0222K1F2P1R1   2  22         1       2  r02c22-1027735946.tiff   \n",
       "\n",
       "                                     image_root_folder  \n",
       "126  c:\\Users\\marfok\\OneDrive - Bristol Myers Squib...  \n",
       "128  c:\\Users\\marfok\\OneDrive - Bristol Myers Squib...  \n",
       "130  c:\\Users\\marfok\\OneDrive - Bristol Myers Squib...  \n",
       "270  c:\\Users\\marfok\\OneDrive - Bristol Myers Squib...  \n",
       "272  c:\\Users\\marfok\\OneDrive - Bristol Myers Squib...  "
      ]
     },
     "metadata": {},
     "output_type": "display_data"
    },
    {
     "name": "stdout",
     "output_type": "stream",
     "text": [
      "(48, 7)\n"
     ]
    }
   ],
   "source": [
    "# 16 total images\n",
    "display(h_df.head())\n",
    "print(h_df.shape)"
   ]
  },
  {
   "cell_type": "code",
   "execution_count": 26,
   "metadata": {},
   "outputs": [
    {
     "data": {
      "text/html": [
       "<div>\n",
       "<style scoped>\n",
       "    .dataframe tbody tr th:only-of-type {\n",
       "        vertical-align: middle;\n",
       "    }\n",
       "\n",
       "    .dataframe tbody tr th {\n",
       "        vertical-align: top;\n",
       "    }\n",
       "\n",
       "    .dataframe thead th {\n",
       "        text-align: right;\n",
       "    }\n",
       "</style>\n",
       "<table border=\"1\" class=\"dataframe\">\n",
       "  <thead>\n",
       "    <tr style=\"text-align: right;\">\n",
       "      <th></th>\n",
       "      <th>id</th>\n",
       "      <th>Row</th>\n",
       "      <th>Col</th>\n",
       "      <th>ChannelID</th>\n",
       "      <th>FieldID</th>\n",
       "      <th>URL</th>\n",
       "      <th>image_root_folder</th>\n",
       "    </tr>\n",
       "  </thead>\n",
       "  <tbody>\n",
       "    <tr>\n",
       "      <th>127</th>\n",
       "      <td>0122K1F1P1R2</td>\n",
       "      <td>1</td>\n",
       "      <td>22</td>\n",
       "      <td>2</td>\n",
       "      <td>1</td>\n",
       "      <td>r01c22-2111396476.tiff</td>\n",
       "      <td>c:\\Users\\marfok\\OneDrive - Bristol Myers Squib...</td>\n",
       "    </tr>\n",
       "    <tr>\n",
       "      <th>129</th>\n",
       "      <td>0122K1F2P1R2</td>\n",
       "      <td>1</td>\n",
       "      <td>22</td>\n",
       "      <td>2</td>\n",
       "      <td>2</td>\n",
       "      <td>r01c22-2023344791.tiff</td>\n",
       "      <td>c:\\Users\\marfok\\OneDrive - Bristol Myers Squib...</td>\n",
       "    </tr>\n",
       "    <tr>\n",
       "      <th>131</th>\n",
       "      <td>0122K1F3P1R2</td>\n",
       "      <td>1</td>\n",
       "      <td>22</td>\n",
       "      <td>2</td>\n",
       "      <td>3</td>\n",
       "      <td>r01c22-0711364633.tiff</td>\n",
       "      <td>c:\\Users\\marfok\\OneDrive - Bristol Myers Squib...</td>\n",
       "    </tr>\n",
       "    <tr>\n",
       "      <th>271</th>\n",
       "      <td>0222K1F1P1R2</td>\n",
       "      <td>2</td>\n",
       "      <td>22</td>\n",
       "      <td>2</td>\n",
       "      <td>1</td>\n",
       "      <td>r02c22-2137399416.tiff</td>\n",
       "      <td>c:\\Users\\marfok\\OneDrive - Bristol Myers Squib...</td>\n",
       "    </tr>\n",
       "    <tr>\n",
       "      <th>273</th>\n",
       "      <td>0222K1F2P1R2</td>\n",
       "      <td>2</td>\n",
       "      <td>22</td>\n",
       "      <td>2</td>\n",
       "      <td>2</td>\n",
       "      <td>r02c22-0509830294.tiff</td>\n",
       "      <td>c:\\Users\\marfok\\OneDrive - Bristol Myers Squib...</td>\n",
       "    </tr>\n",
       "  </tbody>\n",
       "</table>\n",
       "</div>"
      ],
      "text/plain": [
       "               id Row Col ChannelID FieldID                     URL  \\\n",
       "127  0122K1F1P1R2   1  22         2       1  r01c22-2111396476.tiff   \n",
       "129  0122K1F2P1R2   1  22         2       2  r01c22-2023344791.tiff   \n",
       "131  0122K1F3P1R2   1  22         2       3  r01c22-0711364633.tiff   \n",
       "271  0222K1F1P1R2   2  22         2       1  r02c22-2137399416.tiff   \n",
       "273  0222K1F2P1R2   2  22         2       2  r02c22-0509830294.tiff   \n",
       "\n",
       "                                     image_root_folder  \n",
       "127  c:\\Users\\marfok\\OneDrive - Bristol Myers Squib...  \n",
       "129  c:\\Users\\marfok\\OneDrive - Bristol Myers Squib...  \n",
       "131  c:\\Users\\marfok\\OneDrive - Bristol Myers Squib...  \n",
       "271  c:\\Users\\marfok\\OneDrive - Bristol Myers Squib...  \n",
       "273  c:\\Users\\marfok\\OneDrive - Bristol Myers Squib...  "
      ]
     },
     "metadata": {},
     "output_type": "display_data"
    },
    {
     "name": "stdout",
     "output_type": "stream",
     "text": [
      "(48, 7)\n"
     ]
    }
   ],
   "source": [
    "display(m_df.head())\n",
    "print(m_df.shape)"
   ]
  },
  {
   "cell_type": "code",
   "execution_count": 27,
   "metadata": {},
   "outputs": [
    {
     "name": "stdout",
     "output_type": "stream",
     "text": [
      "mCherry image path:  c:\\Users\\marfok\\OneDrive - Bristol Myers Squibb\\Desktop\\Archetecture 2.0\\DSAA\\HCS\\Unsupervised\\UMM-Discovery_repo\\UMM-Discovery\\UMM-Discovery\\IMAGE_DATA\\0037d066-8793-4b33-9d8d-c1fe0b36a567\\r01c22-2111396476.tiff\n",
      "HOECHST image path:  c:\\Users\\marfok\\OneDrive - Bristol Myers Squibb\\Desktop\\Archetecture 2.0\\DSAA\\HCS\\Unsupervised\\UMM-Discovery_repo\\UMM-Discovery\\UMM-Discovery\\IMAGE_DATA\\0037d066-8793-4b33-9d8d-c1fe0b36a567\\r01c22-0584869840.tiff\n",
      "mCherry image path:  c:\\Users\\marfok\\OneDrive - Bristol Myers Squibb\\Desktop\\Archetecture 2.0\\DSAA\\HCS\\Unsupervised\\UMM-Discovery_repo\\UMM-Discovery\\UMM-Discovery\\IMAGE_DATA\\0037d066-8793-4b33-9d8d-c1fe0b36a567\\r01c22-2023344791.tiff\n",
      "HOECHST image path:  c:\\Users\\marfok\\OneDrive - Bristol Myers Squibb\\Desktop\\Archetecture 2.0\\DSAA\\HCS\\Unsupervised\\UMM-Discovery_repo\\UMM-Discovery\\UMM-Discovery\\IMAGE_DATA\\0037d066-8793-4b33-9d8d-c1fe0b36a567\\r01c22-0165009493.tiff\n",
      "mCherry image path:  c:\\Users\\marfok\\OneDrive - Bristol Myers Squibb\\Desktop\\Archetecture 2.0\\DSAA\\HCS\\Unsupervised\\UMM-Discovery_repo\\UMM-Discovery\\UMM-Discovery\\IMAGE_DATA\\0037d066-8793-4b33-9d8d-c1fe0b36a567\\r01c22-0711364633.tiff\n",
      "HOECHST image path:  c:\\Users\\marfok\\OneDrive - Bristol Myers Squibb\\Desktop\\Archetecture 2.0\\DSAA\\HCS\\Unsupervised\\UMM-Discovery_repo\\UMM-Discovery\\UMM-Discovery\\IMAGE_DATA\\0037d066-8793-4b33-9d8d-c1fe0b36a567\\r01c22-1365878811.tiff\n",
      "mCherry image path:  c:\\Users\\marfok\\OneDrive - Bristol Myers Squibb\\Desktop\\Archetecture 2.0\\DSAA\\HCS\\Unsupervised\\UMM-Discovery_repo\\UMM-Discovery\\UMM-Discovery\\IMAGE_DATA\\0037d066-8793-4b33-9d8d-c1fe0b36a567\\r02c22-2137399416.tiff\n",
      "HOECHST image path:  c:\\Users\\marfok\\OneDrive - Bristol Myers Squibb\\Desktop\\Archetecture 2.0\\DSAA\\HCS\\Unsupervised\\UMM-Discovery_repo\\UMM-Discovery\\UMM-Discovery\\IMAGE_DATA\\0037d066-8793-4b33-9d8d-c1fe0b36a567\\r02c22-1656980324.tiff\n",
      "mCherry image path:  c:\\Users\\marfok\\OneDrive - Bristol Myers Squibb\\Desktop\\Archetecture 2.0\\DSAA\\HCS\\Unsupervised\\UMM-Discovery_repo\\UMM-Discovery\\UMM-Discovery\\IMAGE_DATA\\0037d066-8793-4b33-9d8d-c1fe0b36a567\\r02c22-0509830294.tiff\n",
      "HOECHST image path:  c:\\Users\\marfok\\OneDrive - Bristol Myers Squibb\\Desktop\\Archetecture 2.0\\DSAA\\HCS\\Unsupervised\\UMM-Discovery_repo\\UMM-Discovery\\UMM-Discovery\\IMAGE_DATA\\0037d066-8793-4b33-9d8d-c1fe0b36a567\\r02c22-1027735946.tiff\n",
      "mCherry image path:  c:\\Users\\marfok\\OneDrive - Bristol Myers Squibb\\Desktop\\Archetecture 2.0\\DSAA\\HCS\\Unsupervised\\UMM-Discovery_repo\\UMM-Discovery\\UMM-Discovery\\IMAGE_DATA\\0037d066-8793-4b33-9d8d-c1fe0b36a567\\r02c22-1124920985.tiff\n",
      "HOECHST image path:  c:\\Users\\marfok\\OneDrive - Bristol Myers Squibb\\Desktop\\Archetecture 2.0\\DSAA\\HCS\\Unsupervised\\UMM-Discovery_repo\\UMM-Discovery\\UMM-Discovery\\IMAGE_DATA\\0037d066-8793-4b33-9d8d-c1fe0b36a567\\r02c22-0154752266.tiff\n",
      "mCherry image path:  c:\\Users\\marfok\\OneDrive - Bristol Myers Squibb\\Desktop\\Archetecture 2.0\\DSAA\\HCS\\Unsupervised\\UMM-Discovery_repo\\UMM-Discovery\\UMM-Discovery\\IMAGE_DATA\\0037d066-8793-4b33-9d8d-c1fe0b36a567\\r03c22-0266235857.tiff\n",
      "HOECHST image path:  c:\\Users\\marfok\\OneDrive - Bristol Myers Squibb\\Desktop\\Archetecture 2.0\\DSAA\\HCS\\Unsupervised\\UMM-Discovery_repo\\UMM-Discovery\\UMM-Discovery\\IMAGE_DATA\\0037d066-8793-4b33-9d8d-c1fe0b36a567\\r03c22-0568407469.tiff\n",
      "mCherry image path:  c:\\Users\\marfok\\OneDrive - Bristol Myers Squibb\\Desktop\\Archetecture 2.0\\DSAA\\HCS\\Unsupervised\\UMM-Discovery_repo\\UMM-Discovery\\UMM-Discovery\\IMAGE_DATA\\0037d066-8793-4b33-9d8d-c1fe0b36a567\\r03c22-0990800981.tiff\n",
      "HOECHST image path:  c:\\Users\\marfok\\OneDrive - Bristol Myers Squibb\\Desktop\\Archetecture 2.0\\DSAA\\HCS\\Unsupervised\\UMM-Discovery_repo\\UMM-Discovery\\UMM-Discovery\\IMAGE_DATA\\0037d066-8793-4b33-9d8d-c1fe0b36a567\\r03c22-0271197685.tiff\n",
      "mCherry image path:  c:\\Users\\marfok\\OneDrive - Bristol Myers Squibb\\Desktop\\Archetecture 2.0\\DSAA\\HCS\\Unsupervised\\UMM-Discovery_repo\\UMM-Discovery\\UMM-Discovery\\IMAGE_DATA\\0037d066-8793-4b33-9d8d-c1fe0b36a567\\r03c22-1990261993.tiff\n",
      "HOECHST image path:  c:\\Users\\marfok\\OneDrive - Bristol Myers Squibb\\Desktop\\Archetecture 2.0\\DSAA\\HCS\\Unsupervised\\UMM-Discovery_repo\\UMM-Discovery\\UMM-Discovery\\IMAGE_DATA\\0037d066-8793-4b33-9d8d-c1fe0b36a567\\r03c22-0431985452.tiff\n",
      "mCherry image path:  c:\\Users\\marfok\\OneDrive - Bristol Myers Squibb\\Desktop\\Archetecture 2.0\\DSAA\\HCS\\Unsupervised\\UMM-Discovery_repo\\UMM-Discovery\\UMM-Discovery\\IMAGE_DATA\\0037d066-8793-4b33-9d8d-c1fe0b36a567\\r04c22-1981681120.tiff\n",
      "HOECHST image path:  c:\\Users\\marfok\\OneDrive - Bristol Myers Squibb\\Desktop\\Archetecture 2.0\\DSAA\\HCS\\Unsupervised\\UMM-Discovery_repo\\UMM-Discovery\\UMM-Discovery\\IMAGE_DATA\\0037d066-8793-4b33-9d8d-c1fe0b36a567\\r04c22-1333033763.tiff\n",
      "mCherry image path:  c:\\Users\\marfok\\OneDrive - Bristol Myers Squibb\\Desktop\\Archetecture 2.0\\DSAA\\HCS\\Unsupervised\\UMM-Discovery_repo\\UMM-Discovery\\UMM-Discovery\\IMAGE_DATA\\0037d066-8793-4b33-9d8d-c1fe0b36a567\\r04c22-1963327889.tiff\n",
      "HOECHST image path:  c:\\Users\\marfok\\OneDrive - Bristol Myers Squibb\\Desktop\\Archetecture 2.0\\DSAA\\HCS\\Unsupervised\\UMM-Discovery_repo\\UMM-Discovery\\UMM-Discovery\\IMAGE_DATA\\0037d066-8793-4b33-9d8d-c1fe0b36a567\\r04c22-0943147272.tiff\n",
      "mCherry image path:  c:\\Users\\marfok\\OneDrive - Bristol Myers Squibb\\Desktop\\Archetecture 2.0\\DSAA\\HCS\\Unsupervised\\UMM-Discovery_repo\\UMM-Discovery\\UMM-Discovery\\IMAGE_DATA\\0037d066-8793-4b33-9d8d-c1fe0b36a567\\r04c22-1480521080.tiff\n",
      "HOECHST image path:  c:\\Users\\marfok\\OneDrive - Bristol Myers Squibb\\Desktop\\Archetecture 2.0\\DSAA\\HCS\\Unsupervised\\UMM-Discovery_repo\\UMM-Discovery\\UMM-Discovery\\IMAGE_DATA\\0037d066-8793-4b33-9d8d-c1fe0b36a567\\r04c22-0509357894.tiff\n",
      "mCherry image path:  c:\\Users\\marfok\\OneDrive - Bristol Myers Squibb\\Desktop\\Archetecture 2.0\\DSAA\\HCS\\Unsupervised\\UMM-Discovery_repo\\UMM-Discovery\\UMM-Discovery\\IMAGE_DATA\\0037d066-8793-4b33-9d8d-c1fe0b36a567\\r05c22-0453664723.tiff\n",
      "HOECHST image path:  c:\\Users\\marfok\\OneDrive - Bristol Myers Squibb\\Desktop\\Archetecture 2.0\\DSAA\\HCS\\Unsupervised\\UMM-Discovery_repo\\UMM-Discovery\\UMM-Discovery\\IMAGE_DATA\\0037d066-8793-4b33-9d8d-c1fe0b36a567\\r05c22-1835678182.tiff\n",
      "mCherry image path:  c:\\Users\\marfok\\OneDrive - Bristol Myers Squibb\\Desktop\\Archetecture 2.0\\DSAA\\HCS\\Unsupervised\\UMM-Discovery_repo\\UMM-Discovery\\UMM-Discovery\\IMAGE_DATA\\0037d066-8793-4b33-9d8d-c1fe0b36a567\\r05c22-1356512907.tiff\n",
      "HOECHST image path:  c:\\Users\\marfok\\OneDrive - Bristol Myers Squibb\\Desktop\\Archetecture 2.0\\DSAA\\HCS\\Unsupervised\\UMM-Discovery_repo\\UMM-Discovery\\UMM-Discovery\\IMAGE_DATA\\0037d066-8793-4b33-9d8d-c1fe0b36a567\\r05c22-1846349336.tiff\n",
      "mCherry image path:  c:\\Users\\marfok\\OneDrive - Bristol Myers Squibb\\Desktop\\Archetecture 2.0\\DSAA\\HCS\\Unsupervised\\UMM-Discovery_repo\\UMM-Discovery\\UMM-Discovery\\IMAGE_DATA\\0037d066-8793-4b33-9d8d-c1fe0b36a567\\r05c22-1124935684.tiff\n",
      "HOECHST image path:  c:\\Users\\marfok\\OneDrive - Bristol Myers Squibb\\Desktop\\Archetecture 2.0\\DSAA\\HCS\\Unsupervised\\UMM-Discovery_repo\\UMM-Discovery\\UMM-Discovery\\IMAGE_DATA\\0037d066-8793-4b33-9d8d-c1fe0b36a567\\r05c22-1299153605.tiff\n",
      "mCherry image path:  c:\\Users\\marfok\\OneDrive - Bristol Myers Squibb\\Desktop\\Archetecture 2.0\\DSAA\\HCS\\Unsupervised\\UMM-Discovery_repo\\UMM-Discovery\\UMM-Discovery\\IMAGE_DATA\\0037d066-8793-4b33-9d8d-c1fe0b36a567\\r06c22-1537622304.tiff\n",
      "HOECHST image path:  c:\\Users\\marfok\\OneDrive - Bristol Myers Squibb\\Desktop\\Archetecture 2.0\\DSAA\\HCS\\Unsupervised\\UMM-Discovery_repo\\UMM-Discovery\\UMM-Discovery\\IMAGE_DATA\\0037d066-8793-4b33-9d8d-c1fe0b36a567\\r06c22-0726229795.tiff\n",
      "mCherry image path:  c:\\Users\\marfok\\OneDrive - Bristol Myers Squibb\\Desktop\\Archetecture 2.0\\DSAA\\HCS\\Unsupervised\\UMM-Discovery_repo\\UMM-Discovery\\UMM-Discovery\\IMAGE_DATA\\0037d066-8793-4b33-9d8d-c1fe0b36a567\\r06c22-1090762155.tiff\n",
      "HOECHST image path:  c:\\Users\\marfok\\OneDrive - Bristol Myers Squibb\\Desktop\\Archetecture 2.0\\DSAA\\HCS\\Unsupervised\\UMM-Discovery_repo\\UMM-Discovery\\UMM-Discovery\\IMAGE_DATA\\0037d066-8793-4b33-9d8d-c1fe0b36a567\\r06c22-0784926951.tiff\n",
      "mCherry image path:  c:\\Users\\marfok\\OneDrive - Bristol Myers Squibb\\Desktop\\Archetecture 2.0\\DSAA\\HCS\\Unsupervised\\UMM-Discovery_repo\\UMM-Discovery\\UMM-Discovery\\IMAGE_DATA\\0037d066-8793-4b33-9d8d-c1fe0b36a567\\r06c22-0231813234.tiff\n",
      "HOECHST image path:  c:\\Users\\marfok\\OneDrive - Bristol Myers Squibb\\Desktop\\Archetecture 2.0\\DSAA\\HCS\\Unsupervised\\UMM-Discovery_repo\\UMM-Discovery\\UMM-Discovery\\IMAGE_DATA\\0037d066-8793-4b33-9d8d-c1fe0b36a567\\r06c22-0985800366.tiff\n",
      "mCherry image path:  c:\\Users\\marfok\\OneDrive - Bristol Myers Squibb\\Desktop\\Archetecture 2.0\\DSAA\\HCS\\Unsupervised\\UMM-Discovery_repo\\UMM-Discovery\\UMM-Discovery\\IMAGE_DATA\\0037d066-8793-4b33-9d8d-c1fe0b36a567\\r07c22-0999484832.tiff\n",
      "HOECHST image path:  c:\\Users\\marfok\\OneDrive - Bristol Myers Squibb\\Desktop\\Archetecture 2.0\\DSAA\\HCS\\Unsupervised\\UMM-Discovery_repo\\UMM-Discovery\\UMM-Discovery\\IMAGE_DATA\\0037d066-8793-4b33-9d8d-c1fe0b36a567\\r07c22-0710411848.tiff\n",
      "mCherry image path:  c:\\Users\\marfok\\OneDrive - Bristol Myers Squibb\\Desktop\\Archetecture 2.0\\DSAA\\HCS\\Unsupervised\\UMM-Discovery_repo\\UMM-Discovery\\UMM-Discovery\\IMAGE_DATA\\0037d066-8793-4b33-9d8d-c1fe0b36a567\\r07c22-0690144394.tiff\n",
      "HOECHST image path:  c:\\Users\\marfok\\OneDrive - Bristol Myers Squibb\\Desktop\\Archetecture 2.0\\DSAA\\HCS\\Unsupervised\\UMM-Discovery_repo\\UMM-Discovery\\UMM-Discovery\\IMAGE_DATA\\0037d066-8793-4b33-9d8d-c1fe0b36a567\\r07c22-0497844155.tiff\n",
      "mCherry image path:  c:\\Users\\marfok\\OneDrive - Bristol Myers Squibb\\Desktop\\Archetecture 2.0\\DSAA\\HCS\\Unsupervised\\UMM-Discovery_repo\\UMM-Discovery\\UMM-Discovery\\IMAGE_DATA\\0037d066-8793-4b33-9d8d-c1fe0b36a567\\r07c22-0069775762.tiff\n",
      "HOECHST image path:  c:\\Users\\marfok\\OneDrive - Bristol Myers Squibb\\Desktop\\Archetecture 2.0\\DSAA\\HCS\\Unsupervised\\UMM-Discovery_repo\\UMM-Discovery\\UMM-Discovery\\IMAGE_DATA\\0037d066-8793-4b33-9d8d-c1fe0b36a567\\r07c22-0748180472.tiff\n",
      "mCherry image path:  c:\\Users\\marfok\\OneDrive - Bristol Myers Squibb\\Desktop\\Archetecture 2.0\\DSAA\\HCS\\Unsupervised\\UMM-Discovery_repo\\UMM-Discovery\\UMM-Discovery\\IMAGE_DATA\\0037d066-8793-4b33-9d8d-c1fe0b36a567\\r08c22-1303786363.tiff\n",
      "HOECHST image path:  c:\\Users\\marfok\\OneDrive - Bristol Myers Squibb\\Desktop\\Archetecture 2.0\\DSAA\\HCS\\Unsupervised\\UMM-Discovery_repo\\UMM-Discovery\\UMM-Discovery\\IMAGE_DATA\\0037d066-8793-4b33-9d8d-c1fe0b36a567\\r08c22-2049199528.tiff\n",
      "mCherry image path:  c:\\Users\\marfok\\OneDrive - Bristol Myers Squibb\\Desktop\\Archetecture 2.0\\DSAA\\HCS\\Unsupervised\\UMM-Discovery_repo\\UMM-Discovery\\UMM-Discovery\\IMAGE_DATA\\0037d066-8793-4b33-9d8d-c1fe0b36a567\\r08c22-1781880091.tiff\n",
      "HOECHST image path:  c:\\Users\\marfok\\OneDrive - Bristol Myers Squibb\\Desktop\\Archetecture 2.0\\DSAA\\HCS\\Unsupervised\\UMM-Discovery_repo\\UMM-Discovery\\UMM-Discovery\\IMAGE_DATA\\0037d066-8793-4b33-9d8d-c1fe0b36a567\\r08c22-1403719478.tiff\n",
      "mCherry image path:  c:\\Users\\marfok\\OneDrive - Bristol Myers Squibb\\Desktop\\Archetecture 2.0\\DSAA\\HCS\\Unsupervised\\UMM-Discovery_repo\\UMM-Discovery\\UMM-Discovery\\IMAGE_DATA\\0037d066-8793-4b33-9d8d-c1fe0b36a567\\r08c22-1130235142.tiff\n",
      "HOECHST image path:  c:\\Users\\marfok\\OneDrive - Bristol Myers Squibb\\Desktop\\Archetecture 2.0\\DSAA\\HCS\\Unsupervised\\UMM-Discovery_repo\\UMM-Discovery\\UMM-Discovery\\IMAGE_DATA\\0037d066-8793-4b33-9d8d-c1fe0b36a567\\r08c22-1806306099.tiff\n",
      "mCherry image path:  c:\\Users\\marfok\\OneDrive - Bristol Myers Squibb\\Desktop\\Archetecture 2.0\\DSAA\\HCS\\Unsupervised\\UMM-Discovery_repo\\UMM-Discovery\\UMM-Discovery\\IMAGE_DATA\\0037d066-8793-4b33-9d8d-c1fe0b36a567\\r09c22-1826817894.tiff\n",
      "HOECHST image path:  c:\\Users\\marfok\\OneDrive - Bristol Myers Squibb\\Desktop\\Archetecture 2.0\\DSAA\\HCS\\Unsupervised\\UMM-Discovery_repo\\UMM-Discovery\\UMM-Discovery\\IMAGE_DATA\\0037d066-8793-4b33-9d8d-c1fe0b36a567\\r09c22-1848568856.tiff\n",
      "mCherry image path:  c:\\Users\\marfok\\OneDrive - Bristol Myers Squibb\\Desktop\\Archetecture 2.0\\DSAA\\HCS\\Unsupervised\\UMM-Discovery_repo\\UMM-Discovery\\UMM-Discovery\\IMAGE_DATA\\0037d066-8793-4b33-9d8d-c1fe0b36a567\\r09c22-1657303716.tiff\n",
      "HOECHST image path:  c:\\Users\\marfok\\OneDrive - Bristol Myers Squibb\\Desktop\\Archetecture 2.0\\DSAA\\HCS\\Unsupervised\\UMM-Discovery_repo\\UMM-Discovery\\UMM-Discovery\\IMAGE_DATA\\0037d066-8793-4b33-9d8d-c1fe0b36a567\\r09c22-0475859401.tiff\n",
      "mCherry image path:  c:\\Users\\marfok\\OneDrive - Bristol Myers Squibb\\Desktop\\Archetecture 2.0\\DSAA\\HCS\\Unsupervised\\UMM-Discovery_repo\\UMM-Discovery\\UMM-Discovery\\IMAGE_DATA\\0037d066-8793-4b33-9d8d-c1fe0b36a567\\r09c22-1105656751.tiff\n",
      "HOECHST image path:  c:\\Users\\marfok\\OneDrive - Bristol Myers Squibb\\Desktop\\Archetecture 2.0\\DSAA\\HCS\\Unsupervised\\UMM-Discovery_repo\\UMM-Discovery\\UMM-Discovery\\IMAGE_DATA\\0037d066-8793-4b33-9d8d-c1fe0b36a567\\r09c22-0091025286.tiff\n",
      "mCherry image path:  c:\\Users\\marfok\\OneDrive - Bristol Myers Squibb\\Desktop\\Archetecture 2.0\\DSAA\\HCS\\Unsupervised\\UMM-Discovery_repo\\UMM-Discovery\\UMM-Discovery\\IMAGE_DATA\\0037d066-8793-4b33-9d8d-c1fe0b36a567\\r10c22-0913189965.tiff\n",
      "HOECHST image path:  c:\\Users\\marfok\\OneDrive - Bristol Myers Squibb\\Desktop\\Archetecture 2.0\\DSAA\\HCS\\Unsupervised\\UMM-Discovery_repo\\UMM-Discovery\\UMM-Discovery\\IMAGE_DATA\\0037d066-8793-4b33-9d8d-c1fe0b36a567\\r10c22-0654057223.tiff\n",
      "mCherry image path:  c:\\Users\\marfok\\OneDrive - Bristol Myers Squibb\\Desktop\\Archetecture 2.0\\DSAA\\HCS\\Unsupervised\\UMM-Discovery_repo\\UMM-Discovery\\UMM-Discovery\\IMAGE_DATA\\0037d066-8793-4b33-9d8d-c1fe0b36a567\\r10c22-2092108606.tiff\n",
      "HOECHST image path:  c:\\Users\\marfok\\OneDrive - Bristol Myers Squibb\\Desktop\\Archetecture 2.0\\DSAA\\HCS\\Unsupervised\\UMM-Discovery_repo\\UMM-Discovery\\UMM-Discovery\\IMAGE_DATA\\0037d066-8793-4b33-9d8d-c1fe0b36a567\\r10c22-2093120553.tiff\n",
      "mCherry image path:  c:\\Users\\marfok\\OneDrive - Bristol Myers Squibb\\Desktop\\Archetecture 2.0\\DSAA\\HCS\\Unsupervised\\UMM-Discovery_repo\\UMM-Discovery\\UMM-Discovery\\IMAGE_DATA\\0037d066-8793-4b33-9d8d-c1fe0b36a567\\r10c22-1665844953.tiff\n",
      "HOECHST image path:  c:\\Users\\marfok\\OneDrive - Bristol Myers Squibb\\Desktop\\Archetecture 2.0\\DSAA\\HCS\\Unsupervised\\UMM-Discovery_repo\\UMM-Discovery\\UMM-Discovery\\IMAGE_DATA\\0037d066-8793-4b33-9d8d-c1fe0b36a567\\r10c22-0101503290.tiff\n",
      "mCherry image path:  c:\\Users\\marfok\\OneDrive - Bristol Myers Squibb\\Desktop\\Archetecture 2.0\\DSAA\\HCS\\Unsupervised\\UMM-Discovery_repo\\UMM-Discovery\\UMM-Discovery\\IMAGE_DATA\\0037d066-8793-4b33-9d8d-c1fe0b36a567\\r11c22-0686558398.tiff\n",
      "HOECHST image path:  c:\\Users\\marfok\\OneDrive - Bristol Myers Squibb\\Desktop\\Archetecture 2.0\\DSAA\\HCS\\Unsupervised\\UMM-Discovery_repo\\UMM-Discovery\\UMM-Discovery\\IMAGE_DATA\\0037d066-8793-4b33-9d8d-c1fe0b36a567\\r11c22-1771795860.tiff\n",
      "mCherry image path:  c:\\Users\\marfok\\OneDrive - Bristol Myers Squibb\\Desktop\\Archetecture 2.0\\DSAA\\HCS\\Unsupervised\\UMM-Discovery_repo\\UMM-Discovery\\UMM-Discovery\\IMAGE_DATA\\0037d066-8793-4b33-9d8d-c1fe0b36a567\\r11c22-0865164114.tiff\n",
      "HOECHST image path:  c:\\Users\\marfok\\OneDrive - Bristol Myers Squibb\\Desktop\\Archetecture 2.0\\DSAA\\HCS\\Unsupervised\\UMM-Discovery_repo\\UMM-Discovery\\UMM-Discovery\\IMAGE_DATA\\0037d066-8793-4b33-9d8d-c1fe0b36a567\\r11c22-1640065436.tiff\n",
      "mCherry image path:  c:\\Users\\marfok\\OneDrive - Bristol Myers Squibb\\Desktop\\Archetecture 2.0\\DSAA\\HCS\\Unsupervised\\UMM-Discovery_repo\\UMM-Discovery\\UMM-Discovery\\IMAGE_DATA\\0037d066-8793-4b33-9d8d-c1fe0b36a567\\r11c22-1082713995.tiff\n",
      "HOECHST image path:  c:\\Users\\marfok\\OneDrive - Bristol Myers Squibb\\Desktop\\Archetecture 2.0\\DSAA\\HCS\\Unsupervised\\UMM-Discovery_repo\\UMM-Discovery\\UMM-Discovery\\IMAGE_DATA\\0037d066-8793-4b33-9d8d-c1fe0b36a567\\r11c22-2124405817.tiff\n",
      "mCherry image path:  c:\\Users\\marfok\\OneDrive - Bristol Myers Squibb\\Desktop\\Archetecture 2.0\\DSAA\\HCS\\Unsupervised\\UMM-Discovery_repo\\UMM-Discovery\\UMM-Discovery\\IMAGE_DATA\\0037d066-8793-4b33-9d8d-c1fe0b36a567\\r12c22-0362222971.tiff\n",
      "HOECHST image path:  c:\\Users\\marfok\\OneDrive - Bristol Myers Squibb\\Desktop\\Archetecture 2.0\\DSAA\\HCS\\Unsupervised\\UMM-Discovery_repo\\UMM-Discovery\\UMM-Discovery\\IMAGE_DATA\\0037d066-8793-4b33-9d8d-c1fe0b36a567\\r12c22-1923539573.tiff\n",
      "mCherry image path:  c:\\Users\\marfok\\OneDrive - Bristol Myers Squibb\\Desktop\\Archetecture 2.0\\DSAA\\HCS\\Unsupervised\\UMM-Discovery_repo\\UMM-Discovery\\UMM-Discovery\\IMAGE_DATA\\0037d066-8793-4b33-9d8d-c1fe0b36a567\\r12c22-0333701333.tiff\n",
      "HOECHST image path:  c:\\Users\\marfok\\OneDrive - Bristol Myers Squibb\\Desktop\\Archetecture 2.0\\DSAA\\HCS\\Unsupervised\\UMM-Discovery_repo\\UMM-Discovery\\UMM-Discovery\\IMAGE_DATA\\0037d066-8793-4b33-9d8d-c1fe0b36a567\\r12c22-2096457732.tiff\n",
      "mCherry image path:  c:\\Users\\marfok\\OneDrive - Bristol Myers Squibb\\Desktop\\Archetecture 2.0\\DSAA\\HCS\\Unsupervised\\UMM-Discovery_repo\\UMM-Discovery\\UMM-Discovery\\IMAGE_DATA\\0037d066-8793-4b33-9d8d-c1fe0b36a567\\r12c22-0913216155.tiff\n",
      "HOECHST image path:  c:\\Users\\marfok\\OneDrive - Bristol Myers Squibb\\Desktop\\Archetecture 2.0\\DSAA\\HCS\\Unsupervised\\UMM-Discovery_repo\\UMM-Discovery\\UMM-Discovery\\IMAGE_DATA\\0037d066-8793-4b33-9d8d-c1fe0b36a567\\r12c22-1146564709.tiff\n",
      "mCherry image path:  c:\\Users\\marfok\\OneDrive - Bristol Myers Squibb\\Desktop\\Archetecture 2.0\\DSAA\\HCS\\Unsupervised\\UMM-Discovery_repo\\UMM-Discovery\\UMM-Discovery\\IMAGE_DATA\\0037d066-8793-4b33-9d8d-c1fe0b36a567\\r13c22-1044650562.tiff\n",
      "HOECHST image path:  c:\\Users\\marfok\\OneDrive - Bristol Myers Squibb\\Desktop\\Archetecture 2.0\\DSAA\\HCS\\Unsupervised\\UMM-Discovery_repo\\UMM-Discovery\\UMM-Discovery\\IMAGE_DATA\\0037d066-8793-4b33-9d8d-c1fe0b36a567\\r13c22-1926306079.tiff\n",
      "mCherry image path:  c:\\Users\\marfok\\OneDrive - Bristol Myers Squibb\\Desktop\\Archetecture 2.0\\DSAA\\HCS\\Unsupervised\\UMM-Discovery_repo\\UMM-Discovery\\UMM-Discovery\\IMAGE_DATA\\0037d066-8793-4b33-9d8d-c1fe0b36a567\\r13c22-0210443103.tiff\n",
      "HOECHST image path:  c:\\Users\\marfok\\OneDrive - Bristol Myers Squibb\\Desktop\\Archetecture 2.0\\DSAA\\HCS\\Unsupervised\\UMM-Discovery_repo\\UMM-Discovery\\UMM-Discovery\\IMAGE_DATA\\0037d066-8793-4b33-9d8d-c1fe0b36a567\\r13c22-1481689195.tiff\n",
      "mCherry image path:  c:\\Users\\marfok\\OneDrive - Bristol Myers Squibb\\Desktop\\Archetecture 2.0\\DSAA\\HCS\\Unsupervised\\UMM-Discovery_repo\\UMM-Discovery\\UMM-Discovery\\IMAGE_DATA\\0037d066-8793-4b33-9d8d-c1fe0b36a567\\r13c22-1044266870.tiff\n",
      "HOECHST image path:  c:\\Users\\marfok\\OneDrive - Bristol Myers Squibb\\Desktop\\Archetecture 2.0\\DSAA\\HCS\\Unsupervised\\UMM-Discovery_repo\\UMM-Discovery\\UMM-Discovery\\IMAGE_DATA\\0037d066-8793-4b33-9d8d-c1fe0b36a567\\r13c22-1159855327.tiff\n",
      "mCherry image path:  c:\\Users\\marfok\\OneDrive - Bristol Myers Squibb\\Desktop\\Archetecture 2.0\\DSAA\\HCS\\Unsupervised\\UMM-Discovery_repo\\UMM-Discovery\\UMM-Discovery\\IMAGE_DATA\\0037d066-8793-4b33-9d8d-c1fe0b36a567\\r14c22-1823271506.tiff\n",
      "HOECHST image path:  c:\\Users\\marfok\\OneDrive - Bristol Myers Squibb\\Desktop\\Archetecture 2.0\\DSAA\\HCS\\Unsupervised\\UMM-Discovery_repo\\UMM-Discovery\\UMM-Discovery\\IMAGE_DATA\\0037d066-8793-4b33-9d8d-c1fe0b36a567\\r14c22-1318828837.tiff\n",
      "mCherry image path:  c:\\Users\\marfok\\OneDrive - Bristol Myers Squibb\\Desktop\\Archetecture 2.0\\DSAA\\HCS\\Unsupervised\\UMM-Discovery_repo\\UMM-Discovery\\UMM-Discovery\\IMAGE_DATA\\0037d066-8793-4b33-9d8d-c1fe0b36a567\\r14c22-1953210828.tiff\n",
      "HOECHST image path:  c:\\Users\\marfok\\OneDrive - Bristol Myers Squibb\\Desktop\\Archetecture 2.0\\DSAA\\HCS\\Unsupervised\\UMM-Discovery_repo\\UMM-Discovery\\UMM-Discovery\\IMAGE_DATA\\0037d066-8793-4b33-9d8d-c1fe0b36a567\\r14c22-0291743255.tiff\n",
      "mCherry image path:  c:\\Users\\marfok\\OneDrive - Bristol Myers Squibb\\Desktop\\Archetecture 2.0\\DSAA\\HCS\\Unsupervised\\UMM-Discovery_repo\\UMM-Discovery\\UMM-Discovery\\IMAGE_DATA\\0037d066-8793-4b33-9d8d-c1fe0b36a567\\r14c22-1278670669.tiff\n",
      "HOECHST image path:  c:\\Users\\marfok\\OneDrive - Bristol Myers Squibb\\Desktop\\Archetecture 2.0\\DSAA\\HCS\\Unsupervised\\UMM-Discovery_repo\\UMM-Discovery\\UMM-Discovery\\IMAGE_DATA\\0037d066-8793-4b33-9d8d-c1fe0b36a567\\r14c22-2038125649.tiff\n",
      "mCherry image path:  c:\\Users\\marfok\\OneDrive - Bristol Myers Squibb\\Desktop\\Archetecture 2.0\\DSAA\\HCS\\Unsupervised\\UMM-Discovery_repo\\UMM-Discovery\\UMM-Discovery\\IMAGE_DATA\\0037d066-8793-4b33-9d8d-c1fe0b36a567\\r15c22-1931491660.tiff\n",
      "HOECHST image path:  c:\\Users\\marfok\\OneDrive - Bristol Myers Squibb\\Desktop\\Archetecture 2.0\\DSAA\\HCS\\Unsupervised\\UMM-Discovery_repo\\UMM-Discovery\\UMM-Discovery\\IMAGE_DATA\\0037d066-8793-4b33-9d8d-c1fe0b36a567\\r15c22-1871323637.tiff\n",
      "mCherry image path:  c:\\Users\\marfok\\OneDrive - Bristol Myers Squibb\\Desktop\\Archetecture 2.0\\DSAA\\HCS\\Unsupervised\\UMM-Discovery_repo\\UMM-Discovery\\UMM-Discovery\\IMAGE_DATA\\0037d066-8793-4b33-9d8d-c1fe0b36a567\\r15c22-0610112579.tiff\n",
      "HOECHST image path:  c:\\Users\\marfok\\OneDrive - Bristol Myers Squibb\\Desktop\\Archetecture 2.0\\DSAA\\HCS\\Unsupervised\\UMM-Discovery_repo\\UMM-Discovery\\UMM-Discovery\\IMAGE_DATA\\0037d066-8793-4b33-9d8d-c1fe0b36a567\\r15c22-2003978310.tiff\n",
      "mCherry image path:  c:\\Users\\marfok\\OneDrive - Bristol Myers Squibb\\Desktop\\Archetecture 2.0\\DSAA\\HCS\\Unsupervised\\UMM-Discovery_repo\\UMM-Discovery\\UMM-Discovery\\IMAGE_DATA\\0037d066-8793-4b33-9d8d-c1fe0b36a567\\r15c22-1328259971.tiff\n",
      "HOECHST image path:  c:\\Users\\marfok\\OneDrive - Bristol Myers Squibb\\Desktop\\Archetecture 2.0\\DSAA\\HCS\\Unsupervised\\UMM-Discovery_repo\\UMM-Discovery\\UMM-Discovery\\IMAGE_DATA\\0037d066-8793-4b33-9d8d-c1fe0b36a567\\r15c22-0918371632.tiff\n",
      "mCherry image path:  c:\\Users\\marfok\\OneDrive - Bristol Myers Squibb\\Desktop\\Archetecture 2.0\\DSAA\\HCS\\Unsupervised\\UMM-Discovery_repo\\UMM-Discovery\\UMM-Discovery\\IMAGE_DATA\\0037d066-8793-4b33-9d8d-c1fe0b36a567\\r16c22-1657699482.tiff\n",
      "HOECHST image path:  c:\\Users\\marfok\\OneDrive - Bristol Myers Squibb\\Desktop\\Archetecture 2.0\\DSAA\\HCS\\Unsupervised\\UMM-Discovery_repo\\UMM-Discovery\\UMM-Discovery\\IMAGE_DATA\\0037d066-8793-4b33-9d8d-c1fe0b36a567\\r16c22-1209927935.tiff\n",
      "mCherry image path:  c:\\Users\\marfok\\OneDrive - Bristol Myers Squibb\\Desktop\\Archetecture 2.0\\DSAA\\HCS\\Unsupervised\\UMM-Discovery_repo\\UMM-Discovery\\UMM-Discovery\\IMAGE_DATA\\0037d066-8793-4b33-9d8d-c1fe0b36a567\\r16c22-0524236398.tiff\n",
      "HOECHST image path:  c:\\Users\\marfok\\OneDrive - Bristol Myers Squibb\\Desktop\\Archetecture 2.0\\DSAA\\HCS\\Unsupervised\\UMM-Discovery_repo\\UMM-Discovery\\UMM-Discovery\\IMAGE_DATA\\0037d066-8793-4b33-9d8d-c1fe0b36a567\\r16c22-1734411264.tiff\n",
      "mCherry image path:  c:\\Users\\marfok\\OneDrive - Bristol Myers Squibb\\Desktop\\Archetecture 2.0\\DSAA\\HCS\\Unsupervised\\UMM-Discovery_repo\\UMM-Discovery\\UMM-Discovery\\IMAGE_DATA\\0037d066-8793-4b33-9d8d-c1fe0b36a567\\r16c22-0675203880.tiff\n",
      "HOECHST image path:  c:\\Users\\marfok\\OneDrive - Bristol Myers Squibb\\Desktop\\Archetecture 2.0\\DSAA\\HCS\\Unsupervised\\UMM-Discovery_repo\\UMM-Discovery\\UMM-Discovery\\IMAGE_DATA\\0037d066-8793-4b33-9d8d-c1fe0b36a567\\r16c22-0431998733.tiff\n"
     ]
    }
   ],
   "source": [
    "for i in range(p_ctl_metadata.shape[0]//2):\n",
    "    print('mCherry image path: ', os.path.join(p_ctl_metadata['image_root_folder'].iloc[i],p_ctl_metadata[p_ctl_metadata.ChannelID.eq('2')]['URL'].iloc[i]))\n",
    "    print('HOECHST image path: ', os.path.join(p_ctl_metadata['image_root_folder'].iloc[i],p_ctl_metadata[p_ctl_metadata.ChannelID.eq('1')]['URL'].iloc[i]))"
   ]
  },
  {
   "cell_type": "code",
   "execution_count": 28,
   "metadata": {},
   "outputs": [
    {
     "name": "stderr",
     "output_type": "stream",
     "text": [
      "C:\\Users\\marfok\\AppData\\Local\\Temp\\ipykernel_24548\\1735611418.py:1: SettingWithCopyWarning: \n",
      "A value is trying to be set on a copy of a slice from a DataFrame.\n",
      "Try using .loc[row_indexer,col_indexer] = value instead\n",
      "\n",
      "See the caveats in the documentation: https://pandas.pydata.org/pandas-docs/stable/user_guide/indexing.html#returning-a-view-versus-a-copy\n",
      "  p_ctl_metadata['compound'] = 'POS-000001'\n"
     ]
    }
   ],
   "source": [
    "p_ctl_metadata['compound'] = 'POS-000001'"
   ]
  },
  {
   "cell_type": "code",
   "execution_count": 29,
   "metadata": {},
   "outputs": [
    {
     "name": "stderr",
     "output_type": "stream",
     "text": [
      "C:\\Users\\marfok\\AppData\\Local\\Temp\\ipykernel_24548\\2743659340.py:1: SettingWithCopyWarning: \n",
      "A value is trying to be set on a copy of a slice from a DataFrame.\n",
      "Try using .loc[row_indexer,col_indexer] = value instead\n",
      "\n",
      "See the caveats in the documentation: https://pandas.pydata.org/pandas-docs/stable/user_guide/indexing.html#returning-a-view-versus-a-copy\n",
      "  p_ctl_metadata['compound_uM'] = 'uM'\n"
     ]
    }
   ],
   "source": [
    "p_ctl_metadata['compound_uM'] = 'uM'"
   ]
  },
  {
   "cell_type": "code",
   "execution_count": 30,
   "metadata": {},
   "outputs": [
    {
     "name": "stderr",
     "output_type": "stream",
     "text": [
      "C:\\Users\\marfok\\AppData\\Local\\Temp\\ipykernel_24548\\2764959845.py:1: SettingWithCopyWarning: \n",
      "A value is trying to be set on a copy of a slice from a DataFrame.\n",
      "Try using .loc[row_indexer,col_indexer] = value instead\n",
      "\n",
      "See the caveats in the documentation: https://pandas.pydata.org/pandas-docs/stable/user_guide/indexing.html#returning-a-view-versus-a-copy\n",
      "  p_ctl_metadata['table_nr'] = 'Blank'\n"
     ]
    }
   ],
   "source": [
    "p_ctl_metadata['table_nr'] = 'Blank'"
   ]
  },
  {
   "cell_type": "code",
   "execution_count": 31,
   "metadata": {},
   "outputs": [],
   "source": [
    "p_ctl_metadata.reset_index(drop=True,inplace=True)"
   ]
  },
  {
   "cell_type": "code",
   "execution_count": 32,
   "metadata": {},
   "outputs": [
    {
     "data": {
      "text/plain": [
       "'POS-000001'"
      ]
     },
     "execution_count": 32,
     "metadata": {},
     "output_type": "execute_result"
    }
   ],
   "source": [
    "p_ctl_metadata.loc[0, 'compound']"
   ]
  },
  {
   "cell_type": "code",
   "execution_count": 33,
   "metadata": {},
   "outputs": [],
   "source": [
    "j =[]\n",
    "for i,row in p_ctl_metadata.iterrows():\n",
    "    j.append(p_ctl_metadata.loc[i,'compound'])\n",
    "       "
   ]
  },
  {
   "cell_type": "code",
   "execution_count": 36,
   "metadata": {},
   "outputs": [
    {
     "name": "stderr",
     "output_type": "stream",
     "text": [
      "C:\\Users\\marfok\\AppData\\Local\\Temp\\ipykernel_24548\\2374892303.py:1: SettingWithCopyWarning: \n",
      "A value is trying to be set on a copy of a slice from a DataFrame.\n",
      "Try using .loc[row_indexer,col_indexer] = value instead\n",
      "\n",
      "See the caveats in the documentation: https://pandas.pydata.org/pandas-docs/stable/user_guide/indexing.html#returning-a-view-versus-a-copy\n",
      "  p_ctl_metadata['pseudoclass'] = ['NA'.format(i) for i in range(p_ctl_metadata.shape[0])]\n"
     ]
    }
   ],
   "source": [
    "p_ctl_metadata['pseudoclass'] = ['NA'.format(i) for i in range(p_ctl_metadata.shape[0])]"
   ]
  },
  {
   "cell_type": "code",
   "execution_count": 73,
   "metadata": {},
   "outputs": [],
   "source": [
    "# for i in p_ctl_metadata['pseudoclass'].unique():\n",
    "#     print(i)"
   ]
  },
  {
   "cell_type": "code",
   "execution_count": 37,
   "metadata": {},
   "outputs": [
    {
     "data": {
      "text/html": [
       "<div>\n",
       "<style scoped>\n",
       "    .dataframe tbody tr th:only-of-type {\n",
       "        vertical-align: middle;\n",
       "    }\n",
       "\n",
       "    .dataframe tbody tr th {\n",
       "        vertical-align: top;\n",
       "    }\n",
       "\n",
       "    .dataframe thead th {\n",
       "        text-align: right;\n",
       "    }\n",
       "</style>\n",
       "<table border=\"1\" class=\"dataframe\">\n",
       "  <thead>\n",
       "    <tr style=\"text-align: right;\">\n",
       "      <th></th>\n",
       "      <th>id</th>\n",
       "      <th>State</th>\n",
       "      <th>Row</th>\n",
       "      <th>Col</th>\n",
       "      <th>ChannelID</th>\n",
       "      <th>FieldID</th>\n",
       "      <th>PlaneID</th>\n",
       "      <th>TimepointID</th>\n",
       "      <th>SequenceID</th>\n",
       "      <th>GroupID</th>\n",
       "      <th>AbsTime</th>\n",
       "      <th>AbsPositionZ</th>\n",
       "      <th>MeasurementTimeOffset</th>\n",
       "      <th>URL</th>\n",
       "      <th>image_root_folder</th>\n",
       "      <th>compound</th>\n",
       "      <th>compound_uM</th>\n",
       "      <th>table_nr</th>\n",
       "      <th>pseudoclass</th>\n",
       "    </tr>\n",
       "  </thead>\n",
       "  <tbody>\n",
       "    <tr>\n",
       "      <th>0</th>\n",
       "      <td>0122K1F1P1R1</td>\n",
       "      <td>None</td>\n",
       "      <td>1</td>\n",
       "      <td>22</td>\n",
       "      <td>1</td>\n",
       "      <td>1</td>\n",
       "      <td>1</td>\n",
       "      <td>1</td>\n",
       "      <td>1</td>\n",
       "      <td>1</td>\n",
       "      <td>2022-11-15T22:53:40.6260096Z</td>\n",
       "      <td>{'@Unit': 'm', '#text': '0.13498944511922153'}</td>\n",
       "      <td>1502.5764091</td>\n",
       "      <td>r01c22-0584869840.tiff</td>\n",
       "      <td>c:\\Users\\marfok\\OneDrive - Bristol Myers Squib...</td>\n",
       "      <td>POS-000001</td>\n",
       "      <td>uM</td>\n",
       "      <td>Blank</td>\n",
       "      <td>NA</td>\n",
       "    </tr>\n",
       "    <tr>\n",
       "      <th>1</th>\n",
       "      <td>0122K1F1P1R2</td>\n",
       "      <td>None</td>\n",
       "      <td>1</td>\n",
       "      <td>22</td>\n",
       "      <td>2</td>\n",
       "      <td>1</td>\n",
       "      <td>1</td>\n",
       "      <td>1</td>\n",
       "      <td>1</td>\n",
       "      <td>1</td>\n",
       "      <td>2022-11-15T22:53:41.1564096Z</td>\n",
       "      <td>{'@Unit': 'm', '#text': '0.13498944511922153'}</td>\n",
       "      <td>1503.10680914</td>\n",
       "      <td>r01c22-2111396476.tiff</td>\n",
       "      <td>c:\\Users\\marfok\\OneDrive - Bristol Myers Squib...</td>\n",
       "      <td>POS-000001</td>\n",
       "      <td>uM</td>\n",
       "      <td>Blank</td>\n",
       "      <td>NA</td>\n",
       "    </tr>\n",
       "    <tr>\n",
       "      <th>2</th>\n",
       "      <td>0122K1F2P1R1</td>\n",
       "      <td>None</td>\n",
       "      <td>1</td>\n",
       "      <td>22</td>\n",
       "      <td>1</td>\n",
       "      <td>2</td>\n",
       "      <td>1</td>\n",
       "      <td>1</td>\n",
       "      <td>1</td>\n",
       "      <td>1</td>\n",
       "      <td>2022-11-15T22:53:42.4044096Z</td>\n",
       "      <td>{'@Unit': 'm', '#text': '0.134989877075187'}</td>\n",
       "      <td>1504.35480905</td>\n",
       "      <td>r01c22-0165009493.tiff</td>\n",
       "      <td>c:\\Users\\marfok\\OneDrive - Bristol Myers Squib...</td>\n",
       "      <td>POS-000001</td>\n",
       "      <td>uM</td>\n",
       "      <td>Blank</td>\n",
       "      <td>NA</td>\n",
       "    </tr>\n",
       "    <tr>\n",
       "      <th>3</th>\n",
       "      <td>0122K1F2P1R2</td>\n",
       "      <td>None</td>\n",
       "      <td>1</td>\n",
       "      <td>22</td>\n",
       "      <td>2</td>\n",
       "      <td>2</td>\n",
       "      <td>1</td>\n",
       "      <td>1</td>\n",
       "      <td>1</td>\n",
       "      <td>1</td>\n",
       "      <td>2022-11-15T22:53:42.9348096Z</td>\n",
       "      <td>{'@Unit': 'm', '#text': '0.134989877075187'}</td>\n",
       "      <td>1504.88520908</td>\n",
       "      <td>r01c22-2023344791.tiff</td>\n",
       "      <td>c:\\Users\\marfok\\OneDrive - Bristol Myers Squib...</td>\n",
       "      <td>POS-000001</td>\n",
       "      <td>uM</td>\n",
       "      <td>Blank</td>\n",
       "      <td>NA</td>\n",
       "    </tr>\n",
       "    <tr>\n",
       "      <th>4</th>\n",
       "      <td>0122K1F3P1R1</td>\n",
       "      <td>None</td>\n",
       "      <td>1</td>\n",
       "      <td>22</td>\n",
       "      <td>1</td>\n",
       "      <td>3</td>\n",
       "      <td>1</td>\n",
       "      <td>1</td>\n",
       "      <td>1</td>\n",
       "      <td>1</td>\n",
       "      <td>2022-11-15T22:53:43.9020096Z</td>\n",
       "      <td>{'@Unit': 'm', '#text': '0.13498634681459504'}</td>\n",
       "      <td>1505.85240912</td>\n",
       "      <td>r01c22-1365878811.tiff</td>\n",
       "      <td>c:\\Users\\marfok\\OneDrive - Bristol Myers Squib...</td>\n",
       "      <td>POS-000001</td>\n",
       "      <td>uM</td>\n",
       "      <td>Blank</td>\n",
       "      <td>NA</td>\n",
       "    </tr>\n",
       "  </tbody>\n",
       "</table>\n",
       "</div>"
      ],
      "text/plain": [
       "             id State Row Col ChannelID FieldID PlaneID TimepointID  \\\n",
       "0  0122K1F1P1R1  None   1  22         1       1       1           1   \n",
       "1  0122K1F1P1R2  None   1  22         2       1       1           1   \n",
       "2  0122K1F2P1R1  None   1  22         1       2       1           1   \n",
       "3  0122K1F2P1R2  None   1  22         2       2       1           1   \n",
       "4  0122K1F3P1R1  None   1  22         1       3       1           1   \n",
       "\n",
       "  SequenceID GroupID                       AbsTime  \\\n",
       "0          1       1  2022-11-15T22:53:40.6260096Z   \n",
       "1          1       1  2022-11-15T22:53:41.1564096Z   \n",
       "2          1       1  2022-11-15T22:53:42.4044096Z   \n",
       "3          1       1  2022-11-15T22:53:42.9348096Z   \n",
       "4          1       1  2022-11-15T22:53:43.9020096Z   \n",
       "\n",
       "                                     AbsPositionZ MeasurementTimeOffset  \\\n",
       "0  {'@Unit': 'm', '#text': '0.13498944511922153'}          1502.5764091   \n",
       "1  {'@Unit': 'm', '#text': '0.13498944511922153'}         1503.10680914   \n",
       "2    {'@Unit': 'm', '#text': '0.134989877075187'}         1504.35480905   \n",
       "3    {'@Unit': 'm', '#text': '0.134989877075187'}         1504.88520908   \n",
       "4  {'@Unit': 'm', '#text': '0.13498634681459504'}         1505.85240912   \n",
       "\n",
       "                      URL                                  image_root_folder  \\\n",
       "0  r01c22-0584869840.tiff  c:\\Users\\marfok\\OneDrive - Bristol Myers Squib...   \n",
       "1  r01c22-2111396476.tiff  c:\\Users\\marfok\\OneDrive - Bristol Myers Squib...   \n",
       "2  r01c22-0165009493.tiff  c:\\Users\\marfok\\OneDrive - Bristol Myers Squib...   \n",
       "3  r01c22-2023344791.tiff  c:\\Users\\marfok\\OneDrive - Bristol Myers Squib...   \n",
       "4  r01c22-1365878811.tiff  c:\\Users\\marfok\\OneDrive - Bristol Myers Squib...   \n",
       "\n",
       "     compound compound_uM table_nr pseudoclass  \n",
       "0  POS-000001          uM    Blank          NA  \n",
       "1  POS-000001          uM    Blank          NA  \n",
       "2  POS-000001          uM    Blank          NA  \n",
       "3  POS-000001          uM    Blank          NA  \n",
       "4  POS-000001          uM    Blank          NA  "
      ]
     },
     "execution_count": 37,
     "metadata": {},
     "output_type": "execute_result"
    }
   ],
   "source": [
    "p_ctl_metadata.head()"
   ]
  },
  {
   "cell_type": "code",
   "execution_count": 38,
   "metadata": {},
   "outputs": [
    {
     "data": {
      "text/plain": [
       "Index(['id', 'State', 'Row', 'Col', 'ChannelID', 'FieldID', 'PlaneID',\n",
       "       'TimepointID', 'SequenceID', 'GroupID', 'AbsTime', 'AbsPositionZ',\n",
       "       'MeasurementTimeOffset', 'URL', 'image_root_folder', 'compound',\n",
       "       'compound_uM', 'table_nr', 'pseudoclass'],\n",
       "      dtype='object')"
      ]
     },
     "execution_count": 38,
     "metadata": {},
     "output_type": "execute_result"
    }
   ],
   "source": [
    "p_ctl_metadata.columns"
   ]
  },
  {
   "cell_type": "code",
   "execution_count": 75,
   "metadata": {},
   "outputs": [],
   "source": [
    "p_ctl_metadata.to_csv('sample_data.csv')"
   ]
  },
  {
   "cell_type": "code",
   "execution_count": null,
   "metadata": {},
   "outputs": [],
   "source": []
  },
  {
   "cell_type": "code",
   "execution_count": null,
   "metadata": {},
   "outputs": [],
   "source": []
  },
  {
   "cell_type": "code",
   "execution_count": null,
   "metadata": {},
   "outputs": [],
   "source": []
  },
  {
   "cell_type": "code",
   "execution_count": null,
   "metadata": {},
   "outputs": [],
   "source": []
  },
  {
   "cell_type": "code",
   "execution_count": null,
   "metadata": {},
   "outputs": [],
   "source": []
  },
  {
   "cell_type": "code",
   "execution_count": null,
   "metadata": {},
   "outputs": [],
   "source": []
  },
  {
   "cell_type": "code",
   "execution_count": null,
   "metadata": {},
   "outputs": [],
   "source": []
  },
  {
   "cell_type": "code",
   "execution_count": null,
   "metadata": {},
   "outputs": [],
   "source": []
  },
  {
   "cell_type": "code",
   "execution_count": null,
   "metadata": {},
   "outputs": [],
   "source": []
  },
  {
   "cell_type": "code",
   "execution_count": null,
   "metadata": {},
   "outputs": [],
   "source": []
  },
  {
   "cell_type": "code",
   "execution_count": null,
   "metadata": {},
   "outputs": [],
   "source": []
  },
  {
   "cell_type": "code",
   "execution_count": null,
   "metadata": {},
   "outputs": [],
   "source": []
  },
  {
   "cell_type": "code",
   "execution_count": null,
   "metadata": {},
   "outputs": [],
   "source": []
  },
  {
   "cell_type": "code",
   "execution_count": null,
   "metadata": {},
   "outputs": [],
   "source": []
  },
  {
   "cell_type": "code",
   "execution_count": null,
   "metadata": {},
   "outputs": [],
   "source": []
  },
  {
   "cell_type": "code",
   "execution_count": null,
   "metadata": {},
   "outputs": [],
   "source": []
  },
  {
   "cell_type": "code",
   "execution_count": null,
   "metadata": {},
   "outputs": [],
   "source": []
  },
  {
   "cell_type": "code",
   "execution_count": null,
   "metadata": {},
   "outputs": [],
   "source": []
  },
  {
   "cell_type": "code",
   "execution_count": null,
   "metadata": {},
   "outputs": [],
   "source": []
  },
  {
   "cell_type": "code",
   "execution_count": null,
   "metadata": {},
   "outputs": [],
   "source": []
  },
  {
   "cell_type": "code",
   "execution_count": null,
   "metadata": {},
   "outputs": [],
   "source": []
  },
  {
   "cell_type": "code",
   "execution_count": null,
   "metadata": {},
   "outputs": [],
   "source": []
  },
  {
   "cell_type": "code",
   "execution_count": null,
   "metadata": {},
   "outputs": [],
   "source": []
  },
  {
   "cell_type": "code",
   "execution_count": null,
   "metadata": {},
   "outputs": [],
   "source": []
  },
  {
   "cell_type": "code",
   "execution_count": null,
   "metadata": {},
   "outputs": [],
   "source": []
  },
  {
   "cell_type": "code",
   "execution_count": null,
   "metadata": {},
   "outputs": [],
   "source": []
  },
  {
   "cell_type": "code",
   "execution_count": null,
   "metadata": {},
   "outputs": [],
   "source": []
  },
  {
   "cell_type": "code",
   "execution_count": null,
   "metadata": {},
   "outputs": [],
   "source": []
  },
  {
   "cell_type": "code",
   "execution_count": null,
   "metadata": {},
   "outputs": [],
   "source": []
  },
  {
   "cell_type": "code",
   "execution_count": null,
   "metadata": {},
   "outputs": [],
   "source": []
  },
  {
   "cell_type": "code",
   "execution_count": null,
   "metadata": {},
   "outputs": [],
   "source": []
  },
  {
   "cell_type": "code",
   "execution_count": null,
   "metadata": {},
   "outputs": [],
   "source": []
  },
  {
   "cell_type": "code",
   "execution_count": null,
   "metadata": {},
   "outputs": [],
   "source": []
  },
  {
   "cell_type": "code",
   "execution_count": null,
   "metadata": {},
   "outputs": [],
   "source": []
  },
  {
   "cell_type": "code",
   "execution_count": null,
   "metadata": {},
   "outputs": [],
   "source": []
  },
  {
   "cell_type": "code",
   "execution_count": null,
   "metadata": {},
   "outputs": [],
   "source": []
  },
  {
   "cell_type": "code",
   "execution_count": null,
   "metadata": {},
   "outputs": [],
   "source": []
  },
  {
   "cell_type": "code",
   "execution_count": null,
   "metadata": {},
   "outputs": [],
   "source": []
  },
  {
   "cell_type": "code",
   "execution_count": null,
   "metadata": {},
   "outputs": [],
   "source": []
  },
  {
   "cell_type": "code",
   "execution_count": null,
   "metadata": {},
   "outputs": [],
   "source": []
  },
  {
   "cell_type": "code",
   "execution_count": null,
   "metadata": {},
   "outputs": [],
   "source": []
  },
  {
   "cell_type": "code",
   "execution_count": null,
   "metadata": {},
   "outputs": [],
   "source": []
  },
  {
   "cell_type": "code",
   "execution_count": null,
   "metadata": {},
   "outputs": [],
   "source": []
  },
  {
   "cell_type": "code",
   "execution_count": null,
   "metadata": {},
   "outputs": [],
   "source": []
  },
  {
   "cell_type": "code",
   "execution_count": null,
   "metadata": {},
   "outputs": [],
   "source": []
  },
  {
   "cell_type": "code",
   "execution_count": null,
   "metadata": {},
   "outputs": [],
   "source": [
    "\n",
    "\n",
    "# # r = re.compile('.*r04c11')\n",
    "# r = re.compile('(Index)')\n",
    "\n",
    "# with open (list(filter(r.findall,im_lst))[0],'r') as f:\n",
    "#     z = f.read()\n",
    "# z\n",
    "\n",
    "\n",
    "# import numpy as np\n",
    "# samp = np.array([21,22,33,4,5,6,7,87])\n",
    "# mask = np.array([0,0,0,1,1,1,1,0],dtype=bool)\n",
    "# samp[mask]\n",
    "\n"
   ]
  }
 ],
 "metadata": {
  "kernelspec": {
   "display_name": "Python 3.10.7 64-bit",
   "language": "python",
   "name": "python3"
  },
  "language_info": {
   "codemirror_mode": {
    "name": "ipython",
    "version": 3
   },
   "file_extension": ".py",
   "mimetype": "text/x-python",
   "name": "python",
   "nbconvert_exporter": "python",
   "pygments_lexer": "ipython3",
   "version": "3.10.7"
  },
  "orig_nbformat": 4,
  "vscode": {
   "interpreter": {
    "hash": "03563d318b1a3875a69394994e2085503605e202bab791be76df3a041f0288fa"
   }
  }
 },
 "nbformat": 4,
 "nbformat_minor": 2
}
