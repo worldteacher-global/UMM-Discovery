{
 "cells": [
  {
   "cell_type": "code",
   "execution_count": 99,
   "metadata": {},
   "outputs": [],
   "source": [
    "import xmltodict\n",
    "from bs4 import BeautifulSoup\n",
    "import pprint\n",
    "import os\n",
    "import re\n",
    "import pandas as pd\n",
    "\n",
    "import skimage\n",
    "import matplotlib.pyplot as plt"
   ]
  },
  {
   "cell_type": "code",
   "execution_count": 75,
   "metadata": {},
   "outputs": [],
   "source": [
    "image_folder = os.path.join(os.getcwd(),'IMAGE_DATA')"
   ]
  },
  {
   "cell_type": "code",
   "execution_count": 76,
   "metadata": {},
   "outputs": [],
   "source": [
    "image_root = os.path.join(image_folder,os.listdir(image_folder)[0])"
   ]
  },
  {
   "cell_type": "code",
   "execution_count": 77,
   "metadata": {},
   "outputs": [],
   "source": [
    "image_root_lst = os.listdir(image_root)"
   ]
  },
  {
   "cell_type": "code",
   "execution_count": 78,
   "metadata": {},
   "outputs": [],
   "source": [
    "\n",
    "r = re.compile('(Index)')\n",
    "# re.findall(r,image_root_lst)\n",
    "idx_file = list(filter(r.findall,image_root_lst))[0]\n"
   ]
  },
  {
   "cell_type": "code",
   "execution_count": 79,
   "metadata": {},
   "outputs": [],
   "source": [
    "with open(os.path.join(image_root,idx_file),'r') as f:\n",
    "    index_xml = f.read()"
   ]
  },
  {
   "cell_type": "code",
   "execution_count": 80,
   "metadata": {},
   "outputs": [],
   "source": [
    "idx_xml = BeautifulSoup(index_xml,'xml')"
   ]
  },
  {
   "cell_type": "code",
   "execution_count": 81,
   "metadata": {},
   "outputs": [],
   "source": [
    "# ind_file.find('<Col>'==22)\n",
    "# ind_file.find_all('Wells', {'Col': [22]})"
   ]
  },
  {
   "cell_type": "code",
   "execution_count": 82,
   "metadata": {},
   "outputs": [],
   "source": [
    "idx_dict = xmltodict.parse(index_xml)"
   ]
  },
  {
   "cell_type": "code",
   "execution_count": 83,
   "metadata": {},
   "outputs": [],
   "source": [
    "# pprint.pprint(idx_dict['EvaluationInputData'])"
   ]
  },
  {
   "cell_type": "code",
   "execution_count": 84,
   "metadata": {},
   "outputs": [
    {
     "data": {
      "text/plain": [
       "dict_keys(['@Version', '@xmlns', '@xmlns:xsd', '@xmlns:xsi', 'User', 'InstrumentType', 'Plates', 'Wells', 'Maps', 'Images'])"
      ]
     },
     "execution_count": 84,
     "metadata": {},
     "output_type": "execute_result"
    }
   ],
   "source": [
    "idx_dict['EvaluationInputData'].keys()"
   ]
  },
  {
   "cell_type": "code",
   "execution_count": 85,
   "metadata": {},
   "outputs": [],
   "source": [
    "mod_well_lst_to_df = []\n",
    "\n",
    "for cnt in range(len(idx_dict['EvaluationInputData']['Wells']['Well'])):\n",
    "    well_temp_df = pd.DataFrame.from_dict(idx_dict['EvaluationInputData']['Wells']['Well'][cnt],orient='columns')\n",
    "    well_temp_df['Image'] = [item.pop('@id') for item in well_temp_df['Image']]\n",
    "    mod_well_lst_to_df.append(well_temp_df)\n",
    "    well_table=pd.concat(mod_well_lst_to_df,axis=0)"
   ]
  },
  {
   "cell_type": "code",
   "execution_count": 86,
   "metadata": {},
   "outputs": [],
   "source": [
    "well_table.reset_index(drop=True,inplace=True)"
   ]
  },
  {
   "cell_type": "code",
   "execution_count": 87,
   "metadata": {},
   "outputs": [
    {
     "data": {
      "text/html": [
       "<div>\n",
       "<style scoped>\n",
       "    .dataframe tbody tr th:only-of-type {\n",
       "        vertical-align: middle;\n",
       "    }\n",
       "\n",
       "    .dataframe tbody tr th {\n",
       "        vertical-align: top;\n",
       "    }\n",
       "\n",
       "    .dataframe thead th {\n",
       "        text-align: right;\n",
       "    }\n",
       "</style>\n",
       "<table border=\"1\" class=\"dataframe\">\n",
       "  <thead>\n",
       "    <tr style=\"text-align: right;\">\n",
       "      <th></th>\n",
       "      <th>id</th>\n",
       "      <th>Col</th>\n",
       "      <th>Row</th>\n",
       "      <th>SublayoutID</th>\n",
       "      <th>Image</th>\n",
       "    </tr>\n",
       "  </thead>\n",
       "  <tbody>\n",
       "    <tr>\n",
       "      <th>0</th>\n",
       "      <td>0101</td>\n",
       "      <td>1</td>\n",
       "      <td>1</td>\n",
       "      <td>1</td>\n",
       "      <td>0101K1F1P1R1</td>\n",
       "    </tr>\n",
       "    <tr>\n",
       "      <th>1</th>\n",
       "      <td>0101</td>\n",
       "      <td>1</td>\n",
       "      <td>1</td>\n",
       "      <td>1</td>\n",
       "      <td>0101K1F1P1R2</td>\n",
       "    </tr>\n",
       "    <tr>\n",
       "      <th>2</th>\n",
       "      <td>0101</td>\n",
       "      <td>1</td>\n",
       "      <td>1</td>\n",
       "      <td>1</td>\n",
       "      <td>0101K1F2P1R1</td>\n",
       "    </tr>\n",
       "    <tr>\n",
       "      <th>3</th>\n",
       "      <td>0101</td>\n",
       "      <td>1</td>\n",
       "      <td>1</td>\n",
       "      <td>1</td>\n",
       "      <td>0101K1F2P1R2</td>\n",
       "    </tr>\n",
       "    <tr>\n",
       "      <th>4</th>\n",
       "      <td>0101</td>\n",
       "      <td>1</td>\n",
       "      <td>1</td>\n",
       "      <td>1</td>\n",
       "      <td>0101K1F3P1R1</td>\n",
       "    </tr>\n",
       "  </tbody>\n",
       "</table>\n",
       "</div>"
      ],
      "text/plain": [
       "     id Col Row SublayoutID         Image\n",
       "0  0101   1   1           1  0101K1F1P1R1\n",
       "1  0101   1   1           1  0101K1F1P1R2\n",
       "2  0101   1   1           1  0101K1F2P1R1\n",
       "3  0101   1   1           1  0101K1F2P1R2\n",
       "4  0101   1   1           1  0101K1F3P1R1"
      ]
     },
     "execution_count": 87,
     "metadata": {},
     "output_type": "execute_result"
    }
   ],
   "source": [
    "well_table.head()"
   ]
  },
  {
   "cell_type": "code",
   "execution_count": 88,
   "metadata": {},
   "outputs": [
    {
     "data": {
      "text/html": [
       "<div>\n",
       "<style scoped>\n",
       "    .dataframe tbody tr th:only-of-type {\n",
       "        vertical-align: middle;\n",
       "    }\n",
       "\n",
       "    .dataframe tbody tr th {\n",
       "        vertical-align: top;\n",
       "    }\n",
       "\n",
       "    .dataframe thead th {\n",
       "        text-align: right;\n",
       "    }\n",
       "</style>\n",
       "<table border=\"1\" class=\"dataframe\">\n",
       "  <thead>\n",
       "    <tr style=\"text-align: right;\">\n",
       "      <th></th>\n",
       "      <th>id</th>\n",
       "      <th>State</th>\n",
       "      <th>Row</th>\n",
       "      <th>Col</th>\n",
       "      <th>ChannelID</th>\n",
       "      <th>FieldID</th>\n",
       "      <th>PlaneID</th>\n",
       "      <th>TimepointID</th>\n",
       "      <th>SequenceID</th>\n",
       "      <th>GroupID</th>\n",
       "      <th>AbsTime</th>\n",
       "      <th>AbsPositionZ</th>\n",
       "      <th>MeasurementTimeOffset</th>\n",
       "      <th>URL</th>\n",
       "    </tr>\n",
       "  </thead>\n",
       "  <tbody>\n",
       "    <tr>\n",
       "      <th>0</th>\n",
       "      <td>0101K1F1P1R1</td>\n",
       "      <td>None</td>\n",
       "      <td>1</td>\n",
       "      <td>1</td>\n",
       "      <td>1</td>\n",
       "      <td>1</td>\n",
       "      <td>1</td>\n",
       "      <td>1</td>\n",
       "      <td>1</td>\n",
       "      <td>1</td>\n",
       "      <td>2022-11-15T22:28:38.0496000Z</td>\n",
       "      <td>{'@Unit': 'm', '#text': '0.1349009528967997'}</td>\n",
       "      <td>0</td>\n",
       "      <td>r01c01-1719728043.tiff</td>\n",
       "    </tr>\n",
       "    <tr>\n",
       "      <th>1</th>\n",
       "      <td>0101K1F1P1R2</td>\n",
       "      <td>None</td>\n",
       "      <td>1</td>\n",
       "      <td>1</td>\n",
       "      <td>2</td>\n",
       "      <td>1</td>\n",
       "      <td>1</td>\n",
       "      <td>1</td>\n",
       "      <td>1</td>\n",
       "      <td>1</td>\n",
       "      <td>2022-11-15T22:28:38.6892000Z</td>\n",
       "      <td>{'@Unit': 'm', '#text': '0.1349009528967997'}</td>\n",
       "      <td>0.639600038528</td>\n",
       "      <td>r01c01-1299190045.tiff</td>\n",
       "    </tr>\n",
       "    <tr>\n",
       "      <th>2</th>\n",
       "      <td>0101K1F2P1R1</td>\n",
       "      <td>None</td>\n",
       "      <td>1</td>\n",
       "      <td>1</td>\n",
       "      <td>1</td>\n",
       "      <td>2</td>\n",
       "      <td>1</td>\n",
       "      <td>1</td>\n",
       "      <td>1</td>\n",
       "      <td>1</td>\n",
       "      <td>2022-11-15T22:28:39.4380000Z</td>\n",
       "      <td>{'@Unit': 'm', '#text': '0.1349040863366522'}</td>\n",
       "      <td>1.38840007782</td>\n",
       "      <td>r01c01-0436032609.tiff</td>\n",
       "    </tr>\n",
       "    <tr>\n",
       "      <th>3</th>\n",
       "      <td>0101K1F2P1R2</td>\n",
       "      <td>None</td>\n",
       "      <td>1</td>\n",
       "      <td>1</td>\n",
       "      <td>2</td>\n",
       "      <td>2</td>\n",
       "      <td>1</td>\n",
       "      <td>1</td>\n",
       "      <td>1</td>\n",
       "      <td>1</td>\n",
       "      <td>2022-11-15T22:28:39.9684000Z</td>\n",
       "      <td>{'@Unit': 'm', '#text': '0.1349040863366522'}</td>\n",
       "      <td>1.91880011559</td>\n",
       "      <td>r01c01-0695440784.tiff</td>\n",
       "    </tr>\n",
       "    <tr>\n",
       "      <th>4</th>\n",
       "      <td>0101K1F3P1R1</td>\n",
       "      <td>None</td>\n",
       "      <td>1</td>\n",
       "      <td>1</td>\n",
       "      <td>1</td>\n",
       "      <td>3</td>\n",
       "      <td>1</td>\n",
       "      <td>1</td>\n",
       "      <td>1</td>\n",
       "      <td>1</td>\n",
       "      <td>2022-11-15T22:28:40.8576000Z</td>\n",
       "      <td>{'@Unit': 'm', '#text': '0.1349020074760486'}</td>\n",
       "      <td>2.80800008774</td>\n",
       "      <td>r01c01-1938356943.tiff</td>\n",
       "    </tr>\n",
       "  </tbody>\n",
       "</table>\n",
       "</div>"
      ],
      "text/plain": [
       "             id State Row Col ChannelID FieldID PlaneID TimepointID  \\\n",
       "0  0101K1F1P1R1  None   1   1         1       1       1           1   \n",
       "1  0101K1F1P1R2  None   1   1         2       1       1           1   \n",
       "2  0101K1F2P1R1  None   1   1         1       2       1           1   \n",
       "3  0101K1F2P1R2  None   1   1         2       2       1           1   \n",
       "4  0101K1F3P1R1  None   1   1         1       3       1           1   \n",
       "\n",
       "  SequenceID GroupID                       AbsTime  \\\n",
       "0          1       1  2022-11-15T22:28:38.0496000Z   \n",
       "1          1       1  2022-11-15T22:28:38.6892000Z   \n",
       "2          1       1  2022-11-15T22:28:39.4380000Z   \n",
       "3          1       1  2022-11-15T22:28:39.9684000Z   \n",
       "4          1       1  2022-11-15T22:28:40.8576000Z   \n",
       "\n",
       "                                    AbsPositionZ MeasurementTimeOffset  \\\n",
       "0  {'@Unit': 'm', '#text': '0.1349009528967997'}                     0   \n",
       "1  {'@Unit': 'm', '#text': '0.1349009528967997'}        0.639600038528   \n",
       "2  {'@Unit': 'm', '#text': '0.1349040863366522'}         1.38840007782   \n",
       "3  {'@Unit': 'm', '#text': '0.1349040863366522'}         1.91880011559   \n",
       "4  {'@Unit': 'm', '#text': '0.1349020074760486'}         2.80800008774   \n",
       "\n",
       "                      URL  \n",
       "0  r01c01-1719728043.tiff  \n",
       "1  r01c01-1299190045.tiff  \n",
       "2  r01c01-0436032609.tiff  \n",
       "3  r01c01-0695440784.tiff  \n",
       "4  r01c01-1938356943.tiff  "
      ]
     },
     "execution_count": 88,
     "metadata": {},
     "output_type": "execute_result"
    }
   ],
   "source": [
    "#channelID 1 = HOECHST\n",
    "#channelID 2 = mCherry\n",
    "image_table = pd.DataFrame.from_dict(idx_dict['EvaluationInputData']['Images']['Image'],orient='columns')\n",
    "image_table.head()"
   ]
  },
  {
   "cell_type": "code",
   "execution_count": 89,
   "metadata": {},
   "outputs": [
    {
     "data": {
      "text/html": [
       "<div>\n",
       "<style scoped>\n",
       "    .dataframe tbody tr th:only-of-type {\n",
       "        vertical-align: middle;\n",
       "    }\n",
       "\n",
       "    .dataframe tbody tr th {\n",
       "        vertical-align: top;\n",
       "    }\n",
       "\n",
       "    .dataframe thead th {\n",
       "        text-align: right;\n",
       "    }\n",
       "</style>\n",
       "<table border=\"1\" class=\"dataframe\">\n",
       "  <thead>\n",
       "    <tr style=\"text-align: right;\">\n",
       "      <th></th>\n",
       "      <th>id</th>\n",
       "      <th>State</th>\n",
       "      <th>Row</th>\n",
       "      <th>Col</th>\n",
       "      <th>ChannelID</th>\n",
       "      <th>FieldID</th>\n",
       "      <th>PlaneID</th>\n",
       "      <th>TimepointID</th>\n",
       "      <th>SequenceID</th>\n",
       "      <th>GroupID</th>\n",
       "      <th>AbsTime</th>\n",
       "      <th>AbsPositionZ</th>\n",
       "      <th>MeasurementTimeOffset</th>\n",
       "      <th>URL</th>\n",
       "    </tr>\n",
       "  </thead>\n",
       "  <tbody>\n",
       "    <tr>\n",
       "      <th>126</th>\n",
       "      <td>0122K1F1P1R1</td>\n",
       "      <td>None</td>\n",
       "      <td>1</td>\n",
       "      <td>22</td>\n",
       "      <td>1</td>\n",
       "      <td>1</td>\n",
       "      <td>1</td>\n",
       "      <td>1</td>\n",
       "      <td>1</td>\n",
       "      <td>1</td>\n",
       "      <td>2022-11-15T22:53:40.6260096Z</td>\n",
       "      <td>{'@Unit': 'm', '#text': '0.13498944511922153'}</td>\n",
       "      <td>1502.5764091</td>\n",
       "      <td>r01c22-0584869840.tiff</td>\n",
       "    </tr>\n",
       "    <tr>\n",
       "      <th>127</th>\n",
       "      <td>0122K1F1P1R2</td>\n",
       "      <td>None</td>\n",
       "      <td>1</td>\n",
       "      <td>22</td>\n",
       "      <td>2</td>\n",
       "      <td>1</td>\n",
       "      <td>1</td>\n",
       "      <td>1</td>\n",
       "      <td>1</td>\n",
       "      <td>1</td>\n",
       "      <td>2022-11-15T22:53:41.1564096Z</td>\n",
       "      <td>{'@Unit': 'm', '#text': '0.13498944511922153'}</td>\n",
       "      <td>1503.10680914</td>\n",
       "      <td>r01c22-2111396476.tiff</td>\n",
       "    </tr>\n",
       "    <tr>\n",
       "      <th>128</th>\n",
       "      <td>0122K1F2P1R1</td>\n",
       "      <td>None</td>\n",
       "      <td>1</td>\n",
       "      <td>22</td>\n",
       "      <td>1</td>\n",
       "      <td>2</td>\n",
       "      <td>1</td>\n",
       "      <td>1</td>\n",
       "      <td>1</td>\n",
       "      <td>1</td>\n",
       "      <td>2022-11-15T22:53:42.4044096Z</td>\n",
       "      <td>{'@Unit': 'm', '#text': '0.134989877075187'}</td>\n",
       "      <td>1504.35480905</td>\n",
       "      <td>r01c22-0165009493.tiff</td>\n",
       "    </tr>\n",
       "    <tr>\n",
       "      <th>129</th>\n",
       "      <td>0122K1F2P1R2</td>\n",
       "      <td>None</td>\n",
       "      <td>1</td>\n",
       "      <td>22</td>\n",
       "      <td>2</td>\n",
       "      <td>2</td>\n",
       "      <td>1</td>\n",
       "      <td>1</td>\n",
       "      <td>1</td>\n",
       "      <td>1</td>\n",
       "      <td>2022-11-15T22:53:42.9348096Z</td>\n",
       "      <td>{'@Unit': 'm', '#text': '0.134989877075187'}</td>\n",
       "      <td>1504.88520908</td>\n",
       "      <td>r01c22-2023344791.tiff</td>\n",
       "    </tr>\n",
       "    <tr>\n",
       "      <th>130</th>\n",
       "      <td>0122K1F3P1R1</td>\n",
       "      <td>None</td>\n",
       "      <td>1</td>\n",
       "      <td>22</td>\n",
       "      <td>1</td>\n",
       "      <td>3</td>\n",
       "      <td>1</td>\n",
       "      <td>1</td>\n",
       "      <td>1</td>\n",
       "      <td>1</td>\n",
       "      <td>2022-11-15T22:53:43.9020096Z</td>\n",
       "      <td>{'@Unit': 'm', '#text': '0.13498634681459504'}</td>\n",
       "      <td>1505.85240912</td>\n",
       "      <td>r01c22-1365878811.tiff</td>\n",
       "    </tr>\n",
       "  </tbody>\n",
       "</table>\n",
       "</div>"
      ],
      "text/plain": [
       "               id State Row Col ChannelID FieldID PlaneID TimepointID  \\\n",
       "126  0122K1F1P1R1  None   1  22         1       1       1           1   \n",
       "127  0122K1F1P1R2  None   1  22         2       1       1           1   \n",
       "128  0122K1F2P1R1  None   1  22         1       2       1           1   \n",
       "129  0122K1F2P1R2  None   1  22         2       2       1           1   \n",
       "130  0122K1F3P1R1  None   1  22         1       3       1           1   \n",
       "\n",
       "    SequenceID GroupID                       AbsTime  \\\n",
       "126          1       1  2022-11-15T22:53:40.6260096Z   \n",
       "127          1       1  2022-11-15T22:53:41.1564096Z   \n",
       "128          1       1  2022-11-15T22:53:42.4044096Z   \n",
       "129          1       1  2022-11-15T22:53:42.9348096Z   \n",
       "130          1       1  2022-11-15T22:53:43.9020096Z   \n",
       "\n",
       "                                       AbsPositionZ MeasurementTimeOffset  \\\n",
       "126  {'@Unit': 'm', '#text': '0.13498944511922153'}          1502.5764091   \n",
       "127  {'@Unit': 'm', '#text': '0.13498944511922153'}         1503.10680914   \n",
       "128    {'@Unit': 'm', '#text': '0.134989877075187'}         1504.35480905   \n",
       "129    {'@Unit': 'm', '#text': '0.134989877075187'}         1504.88520908   \n",
       "130  {'@Unit': 'm', '#text': '0.13498634681459504'}         1505.85240912   \n",
       "\n",
       "                        URL  \n",
       "126  r01c22-0584869840.tiff  \n",
       "127  r01c22-2111396476.tiff  \n",
       "128  r01c22-0165009493.tiff  \n",
       "129  r01c22-2023344791.tiff  \n",
       "130  r01c22-1365878811.tiff  "
      ]
     },
     "execution_count": 89,
     "metadata": {},
     "output_type": "execute_result"
    }
   ],
   "source": [
    "p_ctl_metadata = image_table[image_table['Col']=='22']\n",
    "p_ctl_metadata.head()"
   ]
  },
  {
   "cell_type": "code",
   "execution_count": 93,
   "metadata": {},
   "outputs": [
    {
     "name": "stderr",
     "output_type": "stream",
     "text": [
      "C:\\Users\\marfok\\AppData\\Local\\Temp\\ipykernel_20260\\1373054125.py:1: SettingWithCopyWarning: \n",
      "A value is trying to be set on a copy of a slice from a DataFrame.\n",
      "Try using .loc[row_indexer,col_indexer] = value instead\n",
      "\n",
      "See the caveats in the documentation: https://pandas.pydata.org/pandas-docs/stable/user_guide/indexing.html#returning-a-view-versus-a-copy\n",
      "  p_ctl_metadata['image_root_folder'] = image_root\n"
     ]
    }
   ],
   "source": [
    "p_ctl_metadata['image_root_folder'] = image_root"
   ]
  },
  {
   "cell_type": "code",
   "execution_count": 94,
   "metadata": {},
   "outputs": [
    {
     "data": {
      "text/html": [
       "<div>\n",
       "<style scoped>\n",
       "    .dataframe tbody tr th:only-of-type {\n",
       "        vertical-align: middle;\n",
       "    }\n",
       "\n",
       "    .dataframe tbody tr th {\n",
       "        vertical-align: top;\n",
       "    }\n",
       "\n",
       "    .dataframe thead th {\n",
       "        text-align: right;\n",
       "    }\n",
       "</style>\n",
       "<table border=\"1\" class=\"dataframe\">\n",
       "  <thead>\n",
       "    <tr style=\"text-align: right;\">\n",
       "      <th></th>\n",
       "      <th>id</th>\n",
       "      <th>State</th>\n",
       "      <th>Row</th>\n",
       "      <th>Col</th>\n",
       "      <th>ChannelID</th>\n",
       "      <th>FieldID</th>\n",
       "      <th>PlaneID</th>\n",
       "      <th>TimepointID</th>\n",
       "      <th>SequenceID</th>\n",
       "      <th>GroupID</th>\n",
       "      <th>AbsTime</th>\n",
       "      <th>AbsPositionZ</th>\n",
       "      <th>MeasurementTimeOffset</th>\n",
       "      <th>URL</th>\n",
       "      <th>image_root_folder</th>\n",
       "    </tr>\n",
       "  </thead>\n",
       "  <tbody>\n",
       "    <tr>\n",
       "      <th>126</th>\n",
       "      <td>0122K1F1P1R1</td>\n",
       "      <td>None</td>\n",
       "      <td>1</td>\n",
       "      <td>22</td>\n",
       "      <td>1</td>\n",
       "      <td>1</td>\n",
       "      <td>1</td>\n",
       "      <td>1</td>\n",
       "      <td>1</td>\n",
       "      <td>1</td>\n",
       "      <td>2022-11-15T22:53:40.6260096Z</td>\n",
       "      <td>{'@Unit': 'm', '#text': '0.13498944511922153'}</td>\n",
       "      <td>1502.5764091</td>\n",
       "      <td>r01c22-0584869840.tiff</td>\n",
       "      <td>c:\\Users\\marfok\\OneDrive - Bristol Myers Squib...</td>\n",
       "    </tr>\n",
       "    <tr>\n",
       "      <th>127</th>\n",
       "      <td>0122K1F1P1R2</td>\n",
       "      <td>None</td>\n",
       "      <td>1</td>\n",
       "      <td>22</td>\n",
       "      <td>2</td>\n",
       "      <td>1</td>\n",
       "      <td>1</td>\n",
       "      <td>1</td>\n",
       "      <td>1</td>\n",
       "      <td>1</td>\n",
       "      <td>2022-11-15T22:53:41.1564096Z</td>\n",
       "      <td>{'@Unit': 'm', '#text': '0.13498944511922153'}</td>\n",
       "      <td>1503.10680914</td>\n",
       "      <td>r01c22-2111396476.tiff</td>\n",
       "      <td>c:\\Users\\marfok\\OneDrive - Bristol Myers Squib...</td>\n",
       "    </tr>\n",
       "    <tr>\n",
       "      <th>128</th>\n",
       "      <td>0122K1F2P1R1</td>\n",
       "      <td>None</td>\n",
       "      <td>1</td>\n",
       "      <td>22</td>\n",
       "      <td>1</td>\n",
       "      <td>2</td>\n",
       "      <td>1</td>\n",
       "      <td>1</td>\n",
       "      <td>1</td>\n",
       "      <td>1</td>\n",
       "      <td>2022-11-15T22:53:42.4044096Z</td>\n",
       "      <td>{'@Unit': 'm', '#text': '0.134989877075187'}</td>\n",
       "      <td>1504.35480905</td>\n",
       "      <td>r01c22-0165009493.tiff</td>\n",
       "      <td>c:\\Users\\marfok\\OneDrive - Bristol Myers Squib...</td>\n",
       "    </tr>\n",
       "    <tr>\n",
       "      <th>129</th>\n",
       "      <td>0122K1F2P1R2</td>\n",
       "      <td>None</td>\n",
       "      <td>1</td>\n",
       "      <td>22</td>\n",
       "      <td>2</td>\n",
       "      <td>2</td>\n",
       "      <td>1</td>\n",
       "      <td>1</td>\n",
       "      <td>1</td>\n",
       "      <td>1</td>\n",
       "      <td>2022-11-15T22:53:42.9348096Z</td>\n",
       "      <td>{'@Unit': 'm', '#text': '0.134989877075187'}</td>\n",
       "      <td>1504.88520908</td>\n",
       "      <td>r01c22-2023344791.tiff</td>\n",
       "      <td>c:\\Users\\marfok\\OneDrive - Bristol Myers Squib...</td>\n",
       "    </tr>\n",
       "    <tr>\n",
       "      <th>130</th>\n",
       "      <td>0122K1F3P1R1</td>\n",
       "      <td>None</td>\n",
       "      <td>1</td>\n",
       "      <td>22</td>\n",
       "      <td>1</td>\n",
       "      <td>3</td>\n",
       "      <td>1</td>\n",
       "      <td>1</td>\n",
       "      <td>1</td>\n",
       "      <td>1</td>\n",
       "      <td>2022-11-15T22:53:43.9020096Z</td>\n",
       "      <td>{'@Unit': 'm', '#text': '0.13498634681459504'}</td>\n",
       "      <td>1505.85240912</td>\n",
       "      <td>r01c22-1365878811.tiff</td>\n",
       "      <td>c:\\Users\\marfok\\OneDrive - Bristol Myers Squib...</td>\n",
       "    </tr>\n",
       "  </tbody>\n",
       "</table>\n",
       "</div>"
      ],
      "text/plain": [
       "               id State Row Col ChannelID FieldID PlaneID TimepointID  \\\n",
       "126  0122K1F1P1R1  None   1  22         1       1       1           1   \n",
       "127  0122K1F1P1R2  None   1  22         2       1       1           1   \n",
       "128  0122K1F2P1R1  None   1  22         1       2       1           1   \n",
       "129  0122K1F2P1R2  None   1  22         2       2       1           1   \n",
       "130  0122K1F3P1R1  None   1  22         1       3       1           1   \n",
       "\n",
       "    SequenceID GroupID                       AbsTime  \\\n",
       "126          1       1  2022-11-15T22:53:40.6260096Z   \n",
       "127          1       1  2022-11-15T22:53:41.1564096Z   \n",
       "128          1       1  2022-11-15T22:53:42.4044096Z   \n",
       "129          1       1  2022-11-15T22:53:42.9348096Z   \n",
       "130          1       1  2022-11-15T22:53:43.9020096Z   \n",
       "\n",
       "                                       AbsPositionZ MeasurementTimeOffset  \\\n",
       "126  {'@Unit': 'm', '#text': '0.13498944511922153'}          1502.5764091   \n",
       "127  {'@Unit': 'm', '#text': '0.13498944511922153'}         1503.10680914   \n",
       "128    {'@Unit': 'm', '#text': '0.134989877075187'}         1504.35480905   \n",
       "129    {'@Unit': 'm', '#text': '0.134989877075187'}         1504.88520908   \n",
       "130  {'@Unit': 'm', '#text': '0.13498634681459504'}         1505.85240912   \n",
       "\n",
       "                        URL                                  image_root_folder  \n",
       "126  r01c22-0584869840.tiff  c:\\Users\\marfok\\OneDrive - Bristol Myers Squib...  \n",
       "127  r01c22-2111396476.tiff  c:\\Users\\marfok\\OneDrive - Bristol Myers Squib...  \n",
       "128  r01c22-0165009493.tiff  c:\\Users\\marfok\\OneDrive - Bristol Myers Squib...  \n",
       "129  r01c22-2023344791.tiff  c:\\Users\\marfok\\OneDrive - Bristol Myers Squib...  \n",
       "130  r01c22-1365878811.tiff  c:\\Users\\marfok\\OneDrive - Bristol Myers Squib...  "
      ]
     },
     "execution_count": 94,
     "metadata": {},
     "output_type": "execute_result"
    }
   ],
   "source": [
    "p_ctl_metadata.head()"
   ]
  },
  {
   "cell_type": "code",
   "execution_count": 101,
   "metadata": {},
   "outputs": [
    {
     "data": {
      "text/plain": [
       "<matplotlib.image.AxesImage at 0x200a1c93ac0>"
      ]
     },
     "execution_count": 101,
     "metadata": {},
     "output_type": "execute_result"
    },
    {
     "data": {
      "image/png": "[encoded data removed]",
      "text/plain": [
       "<Figure size 640x480 with 1 Axes>"
      ]
     },
     "metadata": {},
     "output_type": "display_data"
    }
   ],
   "source": [
    "im1 = os.path.join(p_ctl_metadata['image_root_folder'].iloc[0],p_ctl_metadata['URL'].iloc[0])\n",
    "plt.imshow(skimage.io.imread(im1))"
   ]
  },
  {
   "cell_type": "code",
   "execution_count": 102,
   "metadata": {},
   "outputs": [],
   "source": [
    "trim_pctl = p_ctl_metadata[['id','Row','Col','ChannelID','FieldID','URL','image_root_folder']]\n",
    "h_df = trim_pctl[trim_pctl.ChannelID.eq('1')] \n",
    "m_df = trim_pctl[trim_pctl.ChannelID.eq('2')]"
   ]
  },
  {
   "cell_type": "code",
   "execution_count": 103,
   "metadata": {},
   "outputs": [
    {
     "data": {
      "text/html": [
       "<div>\n",
       "<style scoped>\n",
       "    .dataframe tbody tr th:only-of-type {\n",
       "        vertical-align: middle;\n",
       "    }\n",
       "\n",
       "    .dataframe tbody tr th {\n",
       "        vertical-align: top;\n",
       "    }\n",
       "\n",
       "    .dataframe thead th {\n",
       "        text-align: right;\n",
       "    }\n",
       "</style>\n",
       "<table border=\"1\" class=\"dataframe\">\n",
       "  <thead>\n",
       "    <tr style=\"text-align: right;\">\n",
       "      <th></th>\n",
       "      <th>id</th>\n",
       "      <th>Row</th>\n",
       "      <th>Col</th>\n",
       "      <th>ChannelID</th>\n",
       "      <th>FieldID</th>\n",
       "      <th>URL</th>\n",
       "      <th>image_root_folder</th>\n",
       "    </tr>\n",
       "  </thead>\n",
       "  <tbody>\n",
       "    <tr>\n",
       "      <th>126</th>\n",
       "      <td>0122K1F1P1R1</td>\n",
       "      <td>1</td>\n",
       "      <td>22</td>\n",
       "      <td>1</td>\n",
       "      <td>1</td>\n",
       "      <td>r01c22-0584869840.tiff</td>\n",
       "      <td>c:\\Users\\marfok\\OneDrive - Bristol Myers Squib...</td>\n",
       "    </tr>\n",
       "    <tr>\n",
       "      <th>128</th>\n",
       "      <td>0122K1F2P1R1</td>\n",
       "      <td>1</td>\n",
       "      <td>22</td>\n",
       "      <td>1</td>\n",
       "      <td>2</td>\n",
       "      <td>r01c22-0165009493.tiff</td>\n",
       "      <td>c:\\Users\\marfok\\OneDrive - Bristol Myers Squib...</td>\n",
       "    </tr>\n",
       "    <tr>\n",
       "      <th>130</th>\n",
       "      <td>0122K1F3P1R1</td>\n",
       "      <td>1</td>\n",
       "      <td>22</td>\n",
       "      <td>1</td>\n",
       "      <td>3</td>\n",
       "      <td>r01c22-1365878811.tiff</td>\n",
       "      <td>c:\\Users\\marfok\\OneDrive - Bristol Myers Squib...</td>\n",
       "    </tr>\n",
       "    <tr>\n",
       "      <th>270</th>\n",
       "      <td>0222K1F1P1R1</td>\n",
       "      <td>2</td>\n",
       "      <td>22</td>\n",
       "      <td>1</td>\n",
       "      <td>1</td>\n",
       "      <td>r02c22-1656980324.tiff</td>\n",
       "      <td>c:\\Users\\marfok\\OneDrive - Bristol Myers Squib...</td>\n",
       "    </tr>\n",
       "    <tr>\n",
       "      <th>272</th>\n",
       "      <td>0222K1F2P1R1</td>\n",
       "      <td>2</td>\n",
       "      <td>22</td>\n",
       "      <td>1</td>\n",
       "      <td>2</td>\n",
       "      <td>r02c22-1027735946.tiff</td>\n",
       "      <td>c:\\Users\\marfok\\OneDrive - Bristol Myers Squib...</td>\n",
       "    </tr>\n",
       "  </tbody>\n",
       "</table>\n",
       "</div>"
      ],
      "text/plain": [
       "               id Row Col ChannelID FieldID                     URL  \\\n",
       "126  0122K1F1P1R1   1  22         1       1  r01c22-0584869840.tiff   \n",
       "128  0122K1F2P1R1   1  22         1       2  r01c22-0165009493.tiff   \n",
       "130  0122K1F3P1R1   1  22         1       3  r01c22-1365878811.tiff   \n",
       "270  0222K1F1P1R1   2  22         1       1  r02c22-1656980324.tiff   \n",
       "272  0222K1F2P1R1   2  22         1       2  r02c22-1027735946.tiff   \n",
       "\n",
       "                                     image_root_folder  \n",
       "126  c:\\Users\\marfok\\OneDrive - Bristol Myers Squib...  \n",
       "128  c:\\Users\\marfok\\OneDrive - Bristol Myers Squib...  \n",
       "130  c:\\Users\\marfok\\OneDrive - Bristol Myers Squib...  \n",
       "270  c:\\Users\\marfok\\OneDrive - Bristol Myers Squib...  \n",
       "272  c:\\Users\\marfok\\OneDrive - Bristol Myers Squib...  "
      ]
     },
     "execution_count": 103,
     "metadata": {},
     "output_type": "execute_result"
    }
   ],
   "source": [
    "h_df.head()"
   ]
  },
  {
   "cell_type": "code",
   "execution_count": 104,
   "metadata": {},
   "outputs": [
    {
     "data": {
      "text/html": [
       "<div>\n",
       "<style scoped>\n",
       "    .dataframe tbody tr th:only-of-type {\n",
       "        vertical-align: middle;\n",
       "    }\n",
       "\n",
       "    .dataframe tbody tr th {\n",
       "        vertical-align: top;\n",
       "    }\n",
       "\n",
       "    .dataframe thead th {\n",
       "        text-align: right;\n",
       "    }\n",
       "</style>\n",
       "<table border=\"1\" class=\"dataframe\">\n",
       "  <thead>\n",
       "    <tr style=\"text-align: right;\">\n",
       "      <th></th>\n",
       "      <th>id</th>\n",
       "      <th>Row</th>\n",
       "      <th>Col</th>\n",
       "      <th>ChannelID</th>\n",
       "      <th>FieldID</th>\n",
       "      <th>URL</th>\n",
       "      <th>image_root_folder</th>\n",
       "    </tr>\n",
       "  </thead>\n",
       "  <tbody>\n",
       "    <tr>\n",
       "      <th>127</th>\n",
       "      <td>0122K1F1P1R2</td>\n",
       "      <td>1</td>\n",
       "      <td>22</td>\n",
       "      <td>2</td>\n",
       "      <td>1</td>\n",
       "      <td>r01c22-2111396476.tiff</td>\n",
       "      <td>c:\\Users\\marfok\\OneDrive - Bristol Myers Squib...</td>\n",
       "    </tr>\n",
       "    <tr>\n",
       "      <th>129</th>\n",
       "      <td>0122K1F2P1R2</td>\n",
       "      <td>1</td>\n",
       "      <td>22</td>\n",
       "      <td>2</td>\n",
       "      <td>2</td>\n",
       "      <td>r01c22-2023344791.tiff</td>\n",
       "      <td>c:\\Users\\marfok\\OneDrive - Bristol Myers Squib...</td>\n",
       "    </tr>\n",
       "    <tr>\n",
       "      <th>131</th>\n",
       "      <td>0122K1F3P1R2</td>\n",
       "      <td>1</td>\n",
       "      <td>22</td>\n",
       "      <td>2</td>\n",
       "      <td>3</td>\n",
       "      <td>r01c22-0711364633.tiff</td>\n",
       "      <td>c:\\Users\\marfok\\OneDrive - Bristol Myers Squib...</td>\n",
       "    </tr>\n",
       "    <tr>\n",
       "      <th>271</th>\n",
       "      <td>0222K1F1P1R2</td>\n",
       "      <td>2</td>\n",
       "      <td>22</td>\n",
       "      <td>2</td>\n",
       "      <td>1</td>\n",
       "      <td>r02c22-2137399416.tiff</td>\n",
       "      <td>c:\\Users\\marfok\\OneDrive - Bristol Myers Squib...</td>\n",
       "    </tr>\n",
       "    <tr>\n",
       "      <th>273</th>\n",
       "      <td>0222K1F2P1R2</td>\n",
       "      <td>2</td>\n",
       "      <td>22</td>\n",
       "      <td>2</td>\n",
       "      <td>2</td>\n",
       "      <td>r02c22-0509830294.tiff</td>\n",
       "      <td>c:\\Users\\marfok\\OneDrive - Bristol Myers Squib...</td>\n",
       "    </tr>\n",
       "  </tbody>\n",
       "</table>\n",
       "</div>"
      ],
      "text/plain": [
       "               id Row Col ChannelID FieldID                     URL  \\\n",
       "127  0122K1F1P1R2   1  22         2       1  r01c22-2111396476.tiff   \n",
       "129  0122K1F2P1R2   1  22         2       2  r01c22-2023344791.tiff   \n",
       "131  0122K1F3P1R2   1  22         2       3  r01c22-0711364633.tiff   \n",
       "271  0222K1F1P1R2   2  22         2       1  r02c22-2137399416.tiff   \n",
       "273  0222K1F2P1R2   2  22         2       2  r02c22-0509830294.tiff   \n",
       "\n",
       "                                     image_root_folder  \n",
       "127  c:\\Users\\marfok\\OneDrive - Bristol Myers Squib...  \n",
       "129  c:\\Users\\marfok\\OneDrive - Bristol Myers Squib...  \n",
       "131  c:\\Users\\marfok\\OneDrive - Bristol Myers Squib...  \n",
       "271  c:\\Users\\marfok\\OneDrive - Bristol Myers Squib...  \n",
       "273  c:\\Users\\marfok\\OneDrive - Bristol Myers Squib...  "
      ]
     },
     "execution_count": 104,
     "metadata": {},
     "output_type": "execute_result"
    }
   ],
   "source": [
    "m_df.head()"
   ]
  },
  {
   "cell_type": "code",
   "execution_count": null,
   "metadata": {},
   "outputs": [],
   "source": []
  },
  {
   "cell_type": "code",
   "execution_count": null,
   "metadata": {},
   "outputs": [],
   "source": []
  },
  {
   "cell_type": "code",
   "execution_count": null,
   "metadata": {},
   "outputs": [],
   "source": []
  },
  {
   "cell_type": "code",
   "execution_count": null,
   "metadata": {},
   "outputs": [],
   "source": []
  },
  {
   "cell_type": "code",
   "execution_count": null,
   "metadata": {},
   "outputs": [],
   "source": []
  },
  {
   "cell_type": "code",
   "execution_count": null,
   "metadata": {},
   "outputs": [],
   "source": []
  },
  {
   "cell_type": "code",
   "execution_count": null,
   "metadata": {},
   "outputs": [],
   "source": []
  },
  {
   "cell_type": "code",
   "execution_count": null,
   "metadata": {},
   "outputs": [],
   "source": []
  },
  {
   "cell_type": "code",
   "execution_count": null,
   "metadata": {},
   "outputs": [],
   "source": []
  },
  {
   "cell_type": "code",
   "execution_count": null,
   "metadata": {},
   "outputs": [],
   "source": []
  },
  {
   "cell_type": "code",
   "execution_count": null,
   "metadata": {},
   "outputs": [],
   "source": []
  },
  {
   "cell_type": "code",
   "execution_count": null,
   "metadata": {},
   "outputs": [],
   "source": []
  },
  {
   "cell_type": "code",
   "execution_count": null,
   "metadata": {},
   "outputs": [],
   "source": []
  },
  {
   "cell_type": "code",
   "execution_count": null,
   "metadata": {},
   "outputs": [],
   "source": []
  },
  {
   "cell_type": "code",
   "execution_count": null,
   "metadata": {},
   "outputs": [],
   "source": []
  },
  {
   "cell_type": "code",
   "execution_count": null,
   "metadata": {},
   "outputs": [],
   "source": []
  },
  {
   "cell_type": "code",
   "execution_count": null,
   "metadata": {},
   "outputs": [],
   "source": []
  },
  {
   "cell_type": "code",
   "execution_count": null,
   "metadata": {},
   "outputs": [],
   "source": []
  },
  {
   "cell_type": "code",
   "execution_count": null,
   "metadata": {},
   "outputs": [],
   "source": []
  },
  {
   "cell_type": "code",
   "execution_count": null,
   "metadata": {},
   "outputs": [],
   "source": []
  },
  {
   "cell_type": "code",
   "execution_count": null,
   "metadata": {},
   "outputs": [],
   "source": []
  },
  {
   "cell_type": "code",
   "execution_count": null,
   "metadata": {},
   "outputs": [],
   "source": []
  },
  {
   "cell_type": "code",
   "execution_count": null,
   "metadata": {},
   "outputs": [],
   "source": []
  },
  {
   "cell_type": "code",
   "execution_count": null,
   "metadata": {},
   "outputs": [],
   "source": []
  },
  {
   "cell_type": "code",
   "execution_count": null,
   "metadata": {},
   "outputs": [],
   "source": []
  },
  {
   "cell_type": "code",
   "execution_count": null,
   "metadata": {},
   "outputs": [],
   "source": []
  },
  {
   "cell_type": "code",
   "execution_count": null,
   "metadata": {},
   "outputs": [],
   "source": []
  },
  {
   "cell_type": "code",
   "execution_count": null,
   "metadata": {},
   "outputs": [],
   "source": []
  },
  {
   "cell_type": "code",
   "execution_count": null,
   "metadata": {},
   "outputs": [],
   "source": []
  },
  {
   "cell_type": "code",
   "execution_count": null,
   "metadata": {},
   "outputs": [],
   "source": []
  },
  {
   "cell_type": "code",
   "execution_count": null,
   "metadata": {},
   "outputs": [],
   "source": []
  },
  {
   "cell_type": "code",
   "execution_count": null,
   "metadata": {},
   "outputs": [],
   "source": []
  },
  {
   "cell_type": "code",
   "execution_count": null,
   "metadata": {},
   "outputs": [],
   "source": []
  },
  {
   "cell_type": "code",
   "execution_count": null,
   "metadata": {},
   "outputs": [],
   "source": []
  },
  {
   "cell_type": "code",
   "execution_count": null,
   "metadata": {},
   "outputs": [],
   "source": []
  },
  {
   "cell_type": "code",
   "execution_count": null,
   "metadata": {},
   "outputs": [],
   "source": []
  },
  {
   "cell_type": "code",
   "execution_count": null,
   "metadata": {},
   "outputs": [],
   "source": []
  },
  {
   "cell_type": "code",
   "execution_count": null,
   "metadata": {},
   "outputs": [],
   "source": []
  },
  {
   "cell_type": "code",
   "execution_count": null,
   "metadata": {},
   "outputs": [],
   "source": []
  },
  {
   "cell_type": "code",
   "execution_count": null,
   "metadata": {},
   "outputs": [],
   "source": []
  },
  {
   "cell_type": "code",
   "execution_count": null,
   "metadata": {},
   "outputs": [],
   "source": []
  },
  {
   "cell_type": "code",
   "execution_count": null,
   "metadata": {},
   "outputs": [],
   "source": []
  },
  {
   "cell_type": "code",
   "execution_count": null,
   "metadata": {},
   "outputs": [],
   "source": []
  },
  {
   "cell_type": "code",
   "execution_count": null,
   "metadata": {},
   "outputs": [],
   "source": []
  },
  {
   "cell_type": "code",
   "execution_count": null,
   "metadata": {},
   "outputs": [],
   "source": []
  },
  {
   "cell_type": "code",
   "execution_count": null,
   "metadata": {},
   "outputs": [],
   "source": []
  },
  {
   "cell_type": "code",
   "execution_count": null,
   "metadata": {},
   "outputs": [],
   "source": []
  },
  {
   "cell_type": "code",
   "execution_count": null,
   "metadata": {},
   "outputs": [],
   "source": []
  },
  {
   "cell_type": "code",
   "execution_count": null,
   "metadata": {},
   "outputs": [],
   "source": [
    "\n",
    "\n",
    "# # r = re.compile('.*r04c11')\n",
    "# r = re.compile('(Index)')\n",
    "\n",
    "# with open (list(filter(r.findall,im_lst))[0],'r') as f:\n",
    "#     z = f.read()\n",
    "# z\n",
    "\n",
    "\n",
    "# import numpy as np\n",
    "# samp = np.array([21,22,33,4,5,6,7,87])\n",
    "# mask = np.array([0,0,0,1,1,1,1,0],dtype=bool)\n",
    "# samp[mask]\n",
    "\n"
   ]
  }
 ],
 "metadata": {
  "kernelspec": {
   "display_name": "Python 3.10.7 64-bit",
   "language": "python",
   "name": "python3"
  },
  "language_info": {
   "codemirror_mode": {
    "name": "ipython",
    "version": 3
   },
   "file_extension": ".py",
   "mimetype": "text/x-python",
   "name": "python",
   "nbconvert_exporter": "python",
   "pygments_lexer": "ipython3",
   "version": "3.10.7"
  },
  "orig_nbformat": 4,
  "vscode": {
   "interpreter": {
    "hash": "03563d318b1a3875a69394994e2085503605e202bab791be76df3a041f0288fa"
   }
  }
 },
 "nbformat": 4,
 "nbformat_minor": 2
}
